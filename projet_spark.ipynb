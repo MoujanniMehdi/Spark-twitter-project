{
 "cells": [
  {
   "cell_type": "markdown",
   "id": "2dd5c324",
   "metadata": {},
   "source": [
    "# Projet Spark avec des données de Twitter\n",
    "## Réalisé par :\n",
    "- EL AYACHI Kaoutar\n",
    "- KHABBAR Samia\n",
    "- KAANANE Mohamed Saad\n",
    "- MOUJANNI Mehdi\n",
    "## Encadré par :\n",
    "- Mme. BENHLIMA Laila\n",
    "\n",
    "> nb : vous pouvez utiliser le twitter api avec tweepy au lieu de snscrape"
   ]
  },
  {
   "cell_type": "code",
   "execution_count": 1,
   "id": "ef6f55e4",
   "metadata": {},
   "outputs": [
    {
     "name": "stderr",
     "output_type": "stream",
     "text": [
      "2022-01-17 13:12:35.483233: W tensorflow/stream_executor/platform/default/dso_loader.cc:64] Could not load dynamic library 'libcudart.so.11.0'; dlerror: libcudart.so.11.0: cannot open shared object file: No such file or directory\n",
      "2022-01-17 13:12:35.483267: I tensorflow/stream_executor/cuda/cudart_stub.cc:29] Ignore above cudart dlerror if you do not have a GPU set up on your machine.\n",
      "No model was supplied, defaulted to distilbert-base-uncased-finetuned-sst-2-english (https://huggingface.co/distilbert-base-uncased-finetuned-sst-2-english)\n",
      "Downloading: 100%|██████████| 256M/256M [02:22<00:00, 1.89MB/s] \n",
      "2022-01-17 13:15:10.475146: W tensorflow/stream_executor/platform/default/dso_loader.cc:64] Could not load dynamic library 'libcuda.so.1'; dlerror: libcuda.so.1: cannot open shared object file: No such file or directory\n",
      "2022-01-17 13:15:10.475184: W tensorflow/stream_executor/cuda/cuda_driver.cc:269] failed call to cuInit: UNKNOWN ERROR (303)\n",
      "2022-01-17 13:15:10.475225: I tensorflow/stream_executor/cuda/cuda_diagnostics.cc:156] kernel driver does not appear to be running on this host (perceus-laptop): /proc/driver/nvidia/version does not exist\n",
      "2022-01-17 13:15:10.475534: I tensorflow/core/platform/cpu_feature_guard.cc:151] This TensorFlow binary is optimized with oneAPI Deep Neural Network Library (oneDNN) to use the following CPU instructions in performance-critical operations:  AVX2 FMA\n",
      "To enable them in other operations, rebuild TensorFlow with the appropriate compiler flags.\n",
      "2022-01-17 13:15:10.512954: W tensorflow/python/util/util.cc:368] Sets are not currently considered sequences, but this may change in the future, so consider avoiding using them.\n",
      "All model checkpoint layers were used when initializing TFDistilBertForSequenceClassification.\n",
      "\n",
      "All the layers of TFDistilBertForSequenceClassification were initialized from the model checkpoint at distilbert-base-uncased-finetuned-sst-2-english.\n",
      "If your task is similar to the task the model of the checkpoint was trained on, you can already use TFDistilBertForSequenceClassification for predictions without further training.\n",
      "Downloading: 100%|██████████| 48.0/48.0 [00:00<00:00, 12.1kB/s]\n",
      "Downloading: 100%|██████████| 226k/226k [00:00<00:00, 632kB/s] \n"
     ]
    }
   ],
   "source": [
    "import snscrape.modules.twitter as sntwitter\n",
    "import pandas as pd\n",
    "import re\n",
    "import numpy as np\n",
    "import matplotlib.pyplot as plt\n",
    "from transformers import pipeline\n",
    "sentiment_classifier = pipeline('sentiment-analysis')"
   ]
  },
  {
   "cell_type": "markdown",
   "id": "113db4a1",
   "metadata": {},
   "source": [
    "## La création d'une liste vide et la remplir avec des tweets\n",
    "Les tweets qu'on va prendre possèdent les données suivantes :\n",
    "\n",
    " - Datetime : la date de la publication du tweet\n",
    " - Hashtags : les hashtags présents dans le tweet\n",
    " - Tweet Id : l'identificateur du tweet\n",
    " - langue : la langue dont laquelle le tweet est écrit\n",
    " - source media : à partir de quel moyen ce tweet a été publié\n",
    " - location\n",
    " - Text : le contenu du tweet\n",
    " - Username : le nom d'utilisateur de qui a publié le tweet\n",
    " - followerscount : le nombre des followers qu'a l'utilisateur "
   ]
  },
  {
   "cell_type": "code",
   "execution_count": 3,
   "id": "1c61ff98",
   "metadata": {},
   "outputs": [
    {
     "name": "stdout",
     "output_type": "stream",
     "text": [
      "400\r"
     ]
    }
   ],
   "source": [
    "list_tweet = []\n",
    "# Les coordonnees de Paris, France\n"
    "location = '48.856614, 2.3522219, 5000km'\n",
    "# Recuperation de 400 tweet\n",
    "for i,tweet in enumerate(sntwitter.TwitterSearchScraper('french election geocode:\"{}\"'.format(location)).get_items()):\n",
    "    print(i,end='\\r')\n",
    "    i=i+1\n",
    "    if i>400:\n",
    "        break\n",
    "    list_tweet.append([tweet.date, tweet.hashtags,tweet.id,tweet.lang,tweet.source,tweet.user.location, tweet.content, tweet.user.username,tweet.user.followersCount])\n",
    "    \n",
    "\n",
    "    \n",
    "# Creation d'un dataframe qui stock dedans les tweet recus\n",
    "tweets_df = pd.DataFrame(list_tweet, columns=['Datetime','Hashtags','Tweet Id','langue','source media','location','Text', 'Username','followerscount'])"
   ]
  },
  {
   "cell_type": "markdown",
   "id": "521e2301",
   "metadata": {},
   "source": [
    "## La visualisation des tweets reçus"
   ]
  },
  {
   "cell_type": "code",
   "execution_count": 55,
   "id": "f826746f",
   "metadata": {},
   "outputs": [
    {
     "data": {
      "text/html": [
       "<div>\n",
       "<style scoped>\n",
       "    .dataframe tbody tr th:only-of-type {\n",
       "        vertical-align: middle;\n",
       "    }\n",
       "\n",
       "    .dataframe tbody tr th {\n",
       "        vertical-align: top;\n",
       "    }\n",
       "\n",
       "    .dataframe thead th {\n",
       "        text-align: right;\n",
       "    }\n",
       "</style>\n",
       "<table border=\"1\" class=\"dataframe\">\n",
       "  <thead>\n",
       "    <tr style=\"text-align: right;\">\n",
       "      <th></th>\n",
       "      <th>Datetime</th>\n",
       "      <th>Hashtags</th>\n",
       "      <th>Tweet Id</th>\n",
       "      <th>langue</th>\n",
       "      <th>source media</th>\n",
       "      <th>location</th>\n",
       "      <th>Text</th>\n",
       "      <th>Username</th>\n",
       "      <th>followerscount</th>\n",
       "    </tr>\n",
       "  </thead>\n",
       "  <tbody>\n",
       "    <tr>\n",
       "      <th>0</th>\n",
       "      <td>2022-01-17 00:07:28+00:00</td>\n",
       "      <td>None</td>\n",
       "      <td>1482867129024225283</td>\n",
       "      <td>en</td>\n",
       "      <td>Twitter for iPhone</td>\n",
       "      <td>London</td>\n",
       "      <td>africatechie  dibussi a rigged election like e...</td>\n",
       "      <td>LIVEBPLUPDATES</td>\n",
       "      <td>137</td>\n",
       "    </tr>\n",
       "    <tr>\n",
       "      <th>1</th>\n",
       "      <td>2022-01-16 23:46:04+00:00</td>\n",
       "      <td>[breakingnews, news, newsplayerplus]</td>\n",
       "      <td>1482861744754028547</td>\n",
       "      <td>en</td>\n",
       "      <td>dlvr.it</td>\n",
       "      <td>Elstree</td>\n",
       "      <td>on httpst.cowryhbbpfcr  ahead of election macr...</td>\n",
       "      <td>NewsPlayerPlus</td>\n",
       "      <td>1141</td>\n",
       "    </tr>\n",
       "    <tr>\n",
       "      <th>2</th>\n",
       "      <td>2022-01-16 23:14:10+00:00</td>\n",
       "      <td>None</td>\n",
       "      <td>1482853717099659268</td>\n",
       "      <td>en</td>\n",
       "      <td>Fintechbot Publisher</td>\n",
       "      <td>Sheffield, UK</td>\n",
       "      <td>ahead of election macron banks on rosy french ...</td>\n",
       "      <td>FintechBot</td>\n",
       "      <td>12342</td>\n",
       "    </tr>\n",
       "    <tr>\n",
       "      <th>3</th>\n",
       "      <td>2022-01-16 21:36:19+00:00</td>\n",
       "      <td>None</td>\n",
       "      <td>1482829089471934465</td>\n",
       "      <td>en</td>\n",
       "      <td>Twitter Web App</td>\n",
       "      <td>London</td>\n",
       "      <td>nonwokenews garethicke they do indeed. the cli...</td>\n",
       "      <td>voulezvousparle</td>\n",
       "      <td>2054</td>\n",
       "    </tr>\n",
       "    <tr>\n",
       "      <th>4</th>\n",
       "      <td>2022-01-16 21:07:23+00:00</td>\n",
       "      <td>None</td>\n",
       "      <td>1482821809259044868</td>\n",
       "      <td>en</td>\n",
       "      <td>Twitter for iPhone</td>\n",
       "      <td>North West, England</td>\n",
       "      <td>lorraineteuten they will try everything  like ...</td>\n",
       "      <td>Shivajihimself</td>\n",
       "      <td>7727</td>\n",
       "    </tr>\n",
       "    <tr>\n",
       "      <th>...</th>\n",
       "      <td>...</td>\n",
       "      <td>...</td>\n",
       "      <td>...</td>\n",
       "      <td>...</td>\n",
       "      <td>...</td>\n",
       "      <td>...</td>\n",
       "      <td>...</td>\n",
       "      <td>...</td>\n",
       "      <td>...</td>\n",
       "    </tr>\n",
       "    <tr>\n",
       "      <th>395</th>\n",
       "      <td>2018-11-22 22:12:34+00:00</td>\n",
       "      <td>None</td>\n",
       "      <td>1065729779561832453</td>\n",
       "      <td>en</td>\n",
       "      <td>Twitter for iPhone</td>\n",
       "      <td></td>\n",
       "      <td>french judges have been empowered to remove fa...</td>\n",
       "      <td>profsked</td>\n",
       "      <td>13984</td>\n",
       "    </tr>\n",
       "    <tr>\n",
       "      <th>396</th>\n",
       "      <td>2018-11-21 00:10:31+00:00</td>\n",
       "      <td>None</td>\n",
       "      <td>1065034686316060674</td>\n",
       "      <td>en</td>\n",
       "      <td>Twitter for Android</td>\n",
       "      <td>Scotland</td>\n",
       "      <td>boblisterpoole macron is a fart in an elevator...</td>\n",
       "      <td>jmilprint</td>\n",
       "      <td>217</td>\n",
       "    </tr>\n",
       "    <tr>\n",
       "      <th>397</th>\n",
       "      <td>2018-11-20 03:14:25+00:00</td>\n",
       "      <td>None</td>\n",
       "      <td>1064718580623831040</td>\n",
       "      <td>en</td>\n",
       "      <td>Twitter for iPhone</td>\n",
       "      <td></td>\n",
       "      <td>french protestors are denouncing the rising co...</td>\n",
       "      <td>profsked</td>\n",
       "      <td>13984</td>\n",
       "    </tr>\n",
       "    <tr>\n",
       "      <th>398</th>\n",
       "      <td>2018-11-19 21:06:32+00:00</td>\n",
       "      <td>None</td>\n",
       "      <td>1064625998770118656</td>\n",
       "      <td>en</td>\n",
       "      <td>Twitter Web Client</td>\n",
       "      <td></td>\n",
       "      <td>normaburke norma this has nothing to do with t...</td>\n",
       "      <td>Maebhcon</td>\n",
       "      <td>764</td>\n",
       "    </tr>\n",
       "    <tr>\n",
       "      <th>399</th>\n",
       "      <td>2018-11-18 20:02:42+00:00</td>\n",
       "      <td>None</td>\n",
       "      <td>1064247546137194496</td>\n",
       "      <td>en</td>\n",
       "      <td>Twitter Web Client</td>\n",
       "      <td>Paris</td>\n",
       "      <td>ibjiyongi aerynthrace athenedonald i am sorry ...</td>\n",
       "      <td>DrFulli</td>\n",
       "      <td>961</td>\n",
       "    </tr>\n",
       "  </tbody>\n",
       "</table>\n",
       "<p>400 rows × 9 columns</p>\n",
       "</div>"
      ],
      "text/plain": [
       "                     Datetime                              Hashtags  \\\n",
       "0   2022-01-17 00:07:28+00:00                                  None   \n",
       "1   2022-01-16 23:46:04+00:00  [breakingnews, news, newsplayerplus]   \n",
       "2   2022-01-16 23:14:10+00:00                                  None   \n",
       "3   2022-01-16 21:36:19+00:00                                  None   \n",
       "4   2022-01-16 21:07:23+00:00                                  None   \n",
       "..                        ...                                   ...   \n",
       "395 2018-11-22 22:12:34+00:00                                  None   \n",
       "396 2018-11-21 00:10:31+00:00                                  None   \n",
       "397 2018-11-20 03:14:25+00:00                                  None   \n",
       "398 2018-11-19 21:06:32+00:00                                  None   \n",
       "399 2018-11-18 20:02:42+00:00                                  None   \n",
       "\n",
       "                Tweet Id langue          source media             location  \\\n",
       "0    1482867129024225283     en    Twitter for iPhone               London   \n",
       "1    1482861744754028547     en               dlvr.it              Elstree   \n",
       "2    1482853717099659268     en  Fintechbot Publisher        Sheffield, UK   \n",
       "3    1482829089471934465     en       Twitter Web App               London   \n",
       "4    1482821809259044868     en    Twitter for iPhone  North West, England   \n",
       "..                   ...    ...                   ...                  ...   \n",
       "395  1065729779561832453     en    Twitter for iPhone                        \n",
       "396  1065034686316060674     en   Twitter for Android             Scotland   \n",
       "397  1064718580623831040     en    Twitter for iPhone                        \n",
       "398  1064625998770118656     en    Twitter Web Client                        \n",
       "399  1064247546137194496     en    Twitter Web Client                Paris   \n",
       "\n",
       "                                                  Text         Username  \\\n",
       "0    africatechie  dibussi a rigged election like e...   LIVEBPLUPDATES   \n",
       "1    on httpst.cowryhbbpfcr  ahead of election macr...   NewsPlayerPlus   \n",
       "2    ahead of election macron banks on rosy french ...       FintechBot   \n",
       "3    nonwokenews garethicke they do indeed. the cli...  voulezvousparle   \n",
       "4    lorraineteuten they will try everything  like ...   Shivajihimself   \n",
       "..                                                 ...              ...   \n",
       "395  french judges have been empowered to remove fa...         profsked   \n",
       "396  boblisterpoole macron is a fart in an elevator...        jmilprint   \n",
       "397  french protestors are denouncing the rising co...         profsked   \n",
       "398  normaburke norma this has nothing to do with t...         Maebhcon   \n",
       "399  ibjiyongi aerynthrace athenedonald i am sorry ...          DrFulli   \n",
       "\n",
       "     followerscount  \n",
       "0               137  \n",
       "1              1141  \n",
       "2             12342  \n",
       "3              2054  \n",
       "4              7727  \n",
       "..              ...  \n",
       "395           13984  \n",
       "396             217  \n",
       "397           13984  \n",
       "398             764  \n",
       "399             961  \n",
       "\n",
       "[400 rows x 9 columns]"
      ]
     },
     "execution_count": 55,
     "metadata": {},
     "output_type": "execute_result"
    }
   ],
   "source": [
    "tweets_df"
   ]
  },
  {
   "cell_type": "markdown",
   "id": "199bee33",
   "metadata": {},
   "source": [
    "## Le nettoyage du dataframe"
   ]
  },
  {
   "cell_type": "markdown",
   "id": "a87337c2",
   "metadata": {},
   "source": [
    "### la suppression du lien pour isoler le source media"
   ]
  },
  {
   "cell_type": "code",
   "execution_count": 5,
   "id": "6f5bc275",
   "metadata": {},
   "outputs": [],
   "source": [
    "for i in range(0,len(tweets_df)):\n",
    "    s = tweets_df.iloc[i][\"source media\"]\n",
    "    start = s.find(\">\") + len(\"6\")\n",
    "    end = s.find(\"|</a>\")\n",
    "    substring = s[start:end]\n",
    "    substring = substring[:-3]\n",
    "    tweets_df.at[i,'source media']=substring"
   ]
  },
  {
   "cell_type": "markdown",
   "id": "4027c2b4",
   "metadata": {},
   "source": [
    "### La suppression des caractères inutiles"
   ]
  },
  {
   "cell_type": "code",
   "execution_count": 6,
   "id": "598529d3",
   "metadata": {},
   "outputs": [
    {
     "data": {
      "text/html": [
       "<div>\n",
       "<style scoped>\n",
       "    .dataframe tbody tr th:only-of-type {\n",
       "        vertical-align: middle;\n",
       "    }\n",
       "\n",
       "    .dataframe tbody tr th {\n",
       "        vertical-align: top;\n",
       "    }\n",
       "\n",
       "    .dataframe thead th {\n",
       "        text-align: right;\n",
       "    }\n",
       "</style>\n",
       "<table border=\"1\" class=\"dataframe\">\n",
       "  <thead>\n",
       "    <tr style=\"text-align: right;\">\n",
       "      <th></th>\n",
       "      <th>Datetime</th>\n",
       "      <th>Hashtags</th>\n",
       "      <th>Tweet Id</th>\n",
       "      <th>langue</th>\n",
       "      <th>source media</th>\n",
       "      <th>location</th>\n",
       "      <th>Text</th>\n",
       "      <th>Username</th>\n",
       "      <th>followerscount</th>\n",
       "    </tr>\n",
       "  </thead>\n",
       "  <tbody>\n",
       "    <tr>\n",
       "      <th>0</th>\n",
       "      <td>2022-01-17 00:07:28+00:00</td>\n",
       "      <td>None</td>\n",
       "      <td>1482867129024225283</td>\n",
       "      <td>en</td>\n",
       "      <td>Twitter for iPhone</td>\n",
       "      <td>London</td>\n",
       "      <td>africatechie  dibussi a rigged election like e...</td>\n",
       "      <td>LIVEBPLUPDATES</td>\n",
       "      <td>137</td>\n",
       "    </tr>\n",
       "    <tr>\n",
       "      <th>1</th>\n",
       "      <td>2022-01-16 23:46:04+00:00</td>\n",
       "      <td>[breakingnews, news, newsplayerplus]</td>\n",
       "      <td>1482861744754028547</td>\n",
       "      <td>en</td>\n",
       "      <td>dlvr.it</td>\n",
       "      <td>Elstree</td>\n",
       "      <td>on httpst.cowryhbbpfcr  ahead of election macr...</td>\n",
       "      <td>NewsPlayerPlus</td>\n",
       "      <td>1141</td>\n",
       "    </tr>\n",
       "    <tr>\n",
       "      <th>2</th>\n",
       "      <td>2022-01-16 23:14:10+00:00</td>\n",
       "      <td>None</td>\n",
       "      <td>1482853717099659268</td>\n",
       "      <td>en</td>\n",
       "      <td>Fintechbot Publisher</td>\n",
       "      <td>Sheffield, UK</td>\n",
       "      <td>ahead of election macron banks on rosy french ...</td>\n",
       "      <td>FintechBot</td>\n",
       "      <td>12342</td>\n",
       "    </tr>\n",
       "    <tr>\n",
       "      <th>3</th>\n",
       "      <td>2022-01-16 21:36:19+00:00</td>\n",
       "      <td>None</td>\n",
       "      <td>1482829089471934465</td>\n",
       "      <td>en</td>\n",
       "      <td>Twitter Web App</td>\n",
       "      <td>London</td>\n",
       "      <td>nonwokenews garethicke they do indeed. the cli...</td>\n",
       "      <td>voulezvousparle</td>\n",
       "      <td>2054</td>\n",
       "    </tr>\n",
       "    <tr>\n",
       "      <th>4</th>\n",
       "      <td>2022-01-16 21:07:23+00:00</td>\n",
       "      <td>None</td>\n",
       "      <td>1482821809259044868</td>\n",
       "      <td>en</td>\n",
       "      <td>Twitter for iPhone</td>\n",
       "      <td>North West, England</td>\n",
       "      <td>lorraineteuten they will try everything  like ...</td>\n",
       "      <td>Shivajihimself</td>\n",
       "      <td>7727</td>\n",
       "    </tr>\n",
       "  </tbody>\n",
       "</table>\n",
       "</div>"
      ],
      "text/plain": [
       "                   Datetime                              Hashtags  \\\n",
       "0 2022-01-17 00:07:28+00:00                                  None   \n",
       "1 2022-01-16 23:46:04+00:00  [breakingnews, news, newsplayerplus]   \n",
       "2 2022-01-16 23:14:10+00:00                                  None   \n",
       "3 2022-01-16 21:36:19+00:00                                  None   \n",
       "4 2022-01-16 21:07:23+00:00                                  None   \n",
       "\n",
       "              Tweet Id langue          source media             location  \\\n",
       "0  1482867129024225283     en    Twitter for iPhone               London   \n",
       "1  1482861744754028547     en               dlvr.it              Elstree   \n",
       "2  1482853717099659268     en  Fintechbot Publisher        Sheffield, UK   \n",
       "3  1482829089471934465     en       Twitter Web App               London   \n",
       "4  1482821809259044868     en    Twitter for iPhone  North West, England   \n",
       "\n",
       "                                                Text         Username  \\\n",
       "0  africatechie  dibussi a rigged election like e...   LIVEBPLUPDATES   \n",
       "1  on httpst.cowryhbbpfcr  ahead of election macr...   NewsPlayerPlus   \n",
       "2  ahead of election macron banks on rosy french ...       FintechBot   \n",
       "3  nonwokenews garethicke they do indeed. the cli...  voulezvousparle   \n",
       "4  lorraineteuten they will try everything  like ...   Shivajihimself   \n",
       "\n",
       "   followerscount  \n",
       "0             137  \n",
       "1            1141  \n",
       "2           12342  \n",
       "3            2054  \n",
       "4            7727  "
      ]
     },
     "execution_count": 6,
     "metadata": {},
     "output_type": "execute_result"
    }
   ],
   "source": [
    "def nlp_pipeline(text):\n",
    "\n",
    "    text = text.lower()\n",
    "    text = text.replace('\\n', ' ').replace('\\r', '')\n",
    "    text = ' '.join(text.split())\n",
    "    text = re.sub(r\"[A-Za-z\\.]*[0-9]+[A-Za-z%°\\.]*\", \"\", text)\n",
    "    text = re.sub(r\"(\\s\\-\\s|-$)\", \"\", text)\n",
    "    text = re.sub(r\"[,\\!\\?\\%\\(\\)\\/\\\"]\", \"\", text)\n",
    "    text = re.sub(r\"\\&\\S*\\s\", \"\", text)\n",
    "    text = re.sub(r\"\\&\", \"\", text)\n",
    "    text = re.sub(r\"\\+\", \"\", text)\n",
    "    text = re.sub(r\"\\#\", \"\", text)\n",
    "    text = re.sub(r\"\\$\", \"\", text)\n",
    "    text = re.sub(r\"\\_\", \"\", text)\n",
    "    text = re.sub(r\"\\«\", \"\", text)\n",
    "    text = re.sub(r\"\\»\", \"\", text)\n",
    "    text = re.sub(r\"\\£\", \"\", text)\n",
    "    text = re.sub(r\"\\%\", \"\", text)\n",
    "    text = re.sub(r\"\\:\", \"\", text)\n",
    "    text = re.sub(r\"\\@\", \"\", text)\n",
    "    text = re.sub(r\"\\-\", \"\", text)\n",
    "\n",
    "    return text\n",
    "    \n",
    "corpus = tweets_df['Text']\n",
    "corpus_clean = corpus.apply(nlp_pipeline)\n",
    "corpus_clean\n",
    "tweets_df['Text']=corpus_clean\n",
    "tweets_df.head()"
   ]
  },
  {
   "cell_type": "markdown",
   "id": "a9e1bfe9",
   "metadata": {},
   "source": [
    "## Visualisation et analyse"
   ]
  },
  {
   "cell_type": "markdown",
   "id": "4a6eaf03",
   "metadata": {},
   "source": [
    "### la visualisation dans un graphe des differentes source media"
   ]
  },
  {
   "cell_type": "code",
   "execution_count": 7,
   "id": "2e619c3a",
   "metadata": {},
   "outputs": [
    {
     "data": {
      "text/plain": [
       "<AxesSubplot:>"
      ]
     },
     "execution_count": 7,
     "metadata": {},
     "output_type": "execute_result"
    },
    {
     "data": {
      "image/png": "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",
      "text/plain": [
       "<Figure size 432x288 with 1 Axes>"
      ]
     },
     "metadata": {
      "needs_background": "light"
     },
     "output_type": "display_data"
    }
   ],
   "source": [
    "tweets_df['source media'].value_counts().plot(kind='bar')"
   ]
  },
  {
   "cell_type": "code",
   "execution_count": 50,
   "id": "daa4d89a",
   "metadata": {},
   "outputs": [
    {
     "data": {
      "text/plain": [
       "<AxesSubplot:>"
      ]
     },
     "execution_count": 50,
     "metadata": {},
     "output_type": "execute_result"
    },
    {
     "data": {
      "image/png": "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",
      "text/plain": [
       "<Figure size 432x288 with 1 Axes>"
      ]
     },
     "metadata": {
      "needs_background": "light"
     },
     "output_type": "display_data"
    }
   ],
   "source": [
    "tweets_df['location'].head(20).value_counts().plot(kind='bar')"
   ]
  },
  {
   "cell_type": "markdown",
   "id": "4fba837e",
   "metadata": {},
   "source": [
    "#### La création d'une copie pour préserver les données originales"
   ]
  },
  {
   "cell_type": "code",
   "execution_count": 9,
   "id": "8ed2022f",
   "metadata": {},
   "outputs": [],
   "source": [
    "df = tweets_df[['Datetime', 'Tweet Id','location','Text', 'Username']]\n",
    "df_copy = df"
   ]
  },
  {
   "cell_type": "code",
   "execution_count": 10,
   "id": "6d03e935",
   "metadata": {},
   "outputs": [
    {
     "data": {
      "text/html": [
       "<div>\n",
       "<style scoped>\n",
       "    .dataframe tbody tr th:only-of-type {\n",
       "        vertical-align: middle;\n",
       "    }\n",
       "\n",
       "    .dataframe tbody tr th {\n",
       "        vertical-align: top;\n",
       "    }\n",
       "\n",
       "    .dataframe thead th {\n",
       "        text-align: right;\n",
       "    }\n",
       "</style>\n",
       "<table border=\"1\" class=\"dataframe\">\n",
       "  <thead>\n",
       "    <tr style=\"text-align: right;\">\n",
       "      <th></th>\n",
       "      <th>Datetime</th>\n",
       "      <th>Tweet Id</th>\n",
       "      <th>location</th>\n",
       "      <th>Text</th>\n",
       "      <th>Username</th>\n",
       "    </tr>\n",
       "  </thead>\n",
       "  <tbody>\n",
       "    <tr>\n",
       "      <th>0</th>\n",
       "      <td>2022-01-17 00:07:28+00:00</td>\n",
       "      <td>1482867129024225283</td>\n",
       "      <td>London</td>\n",
       "      <td>africatechie  dibussi a rigged election like e...</td>\n",
       "      <td>LIVEBPLUPDATES</td>\n",
       "    </tr>\n",
       "    <tr>\n",
       "      <th>1</th>\n",
       "      <td>2022-01-16 23:46:04+00:00</td>\n",
       "      <td>1482861744754028547</td>\n",
       "      <td>Elstree</td>\n",
       "      <td>on httpst.cowryhbbpfcr  ahead of election macr...</td>\n",
       "      <td>NewsPlayerPlus</td>\n",
       "    </tr>\n",
       "    <tr>\n",
       "      <th>2</th>\n",
       "      <td>2022-01-16 23:14:10+00:00</td>\n",
       "      <td>1482853717099659268</td>\n",
       "      <td>Sheffield, UK</td>\n",
       "      <td>ahead of election macron banks on rosy french ...</td>\n",
       "      <td>FintechBot</td>\n",
       "    </tr>\n",
       "    <tr>\n",
       "      <th>3</th>\n",
       "      <td>2022-01-16 21:36:19+00:00</td>\n",
       "      <td>1482829089471934465</td>\n",
       "      <td>London</td>\n",
       "      <td>nonwokenews garethicke they do indeed. the cli...</td>\n",
       "      <td>voulezvousparle</td>\n",
       "    </tr>\n",
       "    <tr>\n",
       "      <th>4</th>\n",
       "      <td>2022-01-16 21:07:23+00:00</td>\n",
       "      <td>1482821809259044868</td>\n",
       "      <td>North West, England</td>\n",
       "      <td>lorraineteuten they will try everything  like ...</td>\n",
       "      <td>Shivajihimself</td>\n",
       "    </tr>\n",
       "    <tr>\n",
       "      <th>...</th>\n",
       "      <td>...</td>\n",
       "      <td>...</td>\n",
       "      <td>...</td>\n",
       "      <td>...</td>\n",
       "      <td>...</td>\n",
       "    </tr>\n",
       "    <tr>\n",
       "      <th>395</th>\n",
       "      <td>2018-11-22 22:12:34+00:00</td>\n",
       "      <td>1065729779561832453</td>\n",
       "      <td></td>\n",
       "      <td>french judges have been empowered to remove fa...</td>\n",
       "      <td>profsked</td>\n",
       "    </tr>\n",
       "    <tr>\n",
       "      <th>396</th>\n",
       "      <td>2018-11-21 00:10:31+00:00</td>\n",
       "      <td>1065034686316060674</td>\n",
       "      <td>Scotland</td>\n",
       "      <td>boblisterpoole macron is a fart in an elevator...</td>\n",
       "      <td>jmilprint</td>\n",
       "    </tr>\n",
       "    <tr>\n",
       "      <th>397</th>\n",
       "      <td>2018-11-20 03:14:25+00:00</td>\n",
       "      <td>1064718580623831040</td>\n",
       "      <td></td>\n",
       "      <td>french protestors are denouncing the rising co...</td>\n",
       "      <td>profsked</td>\n",
       "    </tr>\n",
       "    <tr>\n",
       "      <th>398</th>\n",
       "      <td>2018-11-19 21:06:32+00:00</td>\n",
       "      <td>1064625998770118656</td>\n",
       "      <td></td>\n",
       "      <td>normaburke norma this has nothing to do with t...</td>\n",
       "      <td>Maebhcon</td>\n",
       "    </tr>\n",
       "    <tr>\n",
       "      <th>399</th>\n",
       "      <td>2018-11-18 20:02:42+00:00</td>\n",
       "      <td>1064247546137194496</td>\n",
       "      <td>Paris</td>\n",
       "      <td>ibjiyongi aerynthrace athenedonald i am sorry ...</td>\n",
       "      <td>DrFulli</td>\n",
       "    </tr>\n",
       "  </tbody>\n",
       "</table>\n",
       "<p>400 rows × 5 columns</p>\n",
       "</div>"
      ],
      "text/plain": [
       "                     Datetime             Tweet Id             location  \\\n",
       "0   2022-01-17 00:07:28+00:00  1482867129024225283               London   \n",
       "1   2022-01-16 23:46:04+00:00  1482861744754028547              Elstree   \n",
       "2   2022-01-16 23:14:10+00:00  1482853717099659268        Sheffield, UK   \n",
       "3   2022-01-16 21:36:19+00:00  1482829089471934465               London   \n",
       "4   2022-01-16 21:07:23+00:00  1482821809259044868  North West, England   \n",
       "..                        ...                  ...                  ...   \n",
       "395 2018-11-22 22:12:34+00:00  1065729779561832453                        \n",
       "396 2018-11-21 00:10:31+00:00  1065034686316060674             Scotland   \n",
       "397 2018-11-20 03:14:25+00:00  1064718580623831040                        \n",
       "398 2018-11-19 21:06:32+00:00  1064625998770118656                        \n",
       "399 2018-11-18 20:02:42+00:00  1064247546137194496                Paris   \n",
       "\n",
       "                                                  Text         Username  \n",
       "0    africatechie  dibussi a rigged election like e...   LIVEBPLUPDATES  \n",
       "1    on httpst.cowryhbbpfcr  ahead of election macr...   NewsPlayerPlus  \n",
       "2    ahead of election macron banks on rosy french ...       FintechBot  \n",
       "3    nonwokenews garethicke they do indeed. the cli...  voulezvousparle  \n",
       "4    lorraineteuten they will try everything  like ...   Shivajihimself  \n",
       "..                                                 ...              ...  \n",
       "395  french judges have been empowered to remove fa...         profsked  \n",
       "396  boblisterpoole macron is a fart in an elevator...        jmilprint  \n",
       "397  french protestors are denouncing the rising co...         profsked  \n",
       "398  normaburke norma this has nothing to do with t...         Maebhcon  \n",
       "399  ibjiyongi aerynthrace athenedonald i am sorry ...          DrFulli  \n",
       "\n",
       "[400 rows x 5 columns]"
      ]
     },
     "execution_count": 10,
     "metadata": {},
     "output_type": "execute_result"
    }
   ],
   "source": [
    "df_copy"
   ]
  },
  {
   "cell_type": "markdown",
   "id": "51b527c4",
   "metadata": {},
   "source": [
    "### La récupération des mots répétés (WordBag) et leur visualisation"
   ]
  },
  {
   "cell_type": "code",
   "execution_count": 11,
   "id": "feb28d10",
   "metadata": {},
   "outputs": [],
   "source": [
    "from spacy.lang.en.stop_words import STOP_WORDS as en_stop\n",
    "final_stopwords_list =  [\"httpst\",\"co\",\"x\",\"https\"] + list(en_stop)"
   ]
  },
  {
   "cell_type": "code",
   "execution_count": 53,
   "id": "bf64464d",
   "metadata": {},
   "outputs": [
    {
     "data": {
      "text/plain": [
       "<matplotlib.image.AxesImage at 0x7fa57252cca0>"
      ]
     },
     "execution_count": 53,
     "metadata": {},
     "output_type": "execute_result"
    },
    {
     "data": {
      "image/png": "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",
      "text/plain": [
       "<Figure size 432x288 with 1 Axes>"
      ]
     },
     "metadata": {
      "needs_background": "light"
     },
     "output_type": "display_data"
    }
   ],
   "source": [
    "from matplotlib import pyplot as plt\n",
    "from wordcloud import WordCloud\n",
    "bigstring = df['Text'].apply(lambda x: ''.join(x)).str.cat(sep=' ')\n",
    "wordcloud = WordCloud(stopwords=final_stopwords_list,\n",
    "                            background_color='white',\n",
    "                            collocations=False,\n",
    "                            width=1200,\n",
    "                            height=1200\n",
    "                         ).generate(bigstring)\n",
    "plt.axis('off')\n",
    "plt.imshow(wordcloud)"
   ]
  },
  {
   "cell_type": "code",
   "execution_count": 13,
   "id": "e7959add",
   "metadata": {},
   "outputs": [
    {
     "data": {
      "text/plain": [
       "<AxesSubplot:>"
      ]
     },
     "execution_count": 13,
     "metadata": {},
     "output_type": "execute_result"
    },
    {
     "data": {
      "image/png": "iVBORw0KGgoAAAANSUhEUgAAAXQAAAFUCAYAAAA0z8dlAAAAOXRFWHRTb2Z0d2FyZQBNYXRwbG90bGliIHZlcnNpb24zLjUuMSwgaHR0cHM6Ly9tYXRwbG90bGliLm9yZy/YYfK9AAAACXBIWXMAAAsTAAALEwEAmpwYAAAutElEQVR4nO3debwcVZn/8c+XzbCFLXEhIQsYGRFBJCwCI7iggArqgILihoKDKFFcBpefII4bo6OMOyoomwiOS1QWgWERZAs7BJEYUBIdBWRzEALx+f1xTid9O31vV3XX7e5Uvu/Xq19JVVedPvfe7qerzvIcRQRmZrbyW23QFTAzs2o4oJuZ1YQDuplZTTigm5nVhAO6mVlNrDGoF540aVLMmDFjUC9vZrZSuu666+6LiMntnhtYQJ8xYwbz5s0b1Mubma2UJP1+tOfc5GJmVhMO6GZmNeGAbmZWEwNrQzczG5QnnniCRYsW8dhjjw26KqOaMGECU6dOZc011yx8jgO6ma1yFi1axPrrr8+MGTOQNOjqrCAiuP/++1m0aBEzZ84sfJ6bXMxslfPYY4+xySabDGUwB5DEJptsUvoOomNAl3SSpL9IunWU5yXpvyQtkHSzpOeXqoGZ2QAMazBv6KZ+Ra7QvwvsNcbzewOz8uMw4Oula2FmZj3r2IYeEZdJmjHGIfsBp0RKrH6VpA0lPSMi/lRVJc3MxtOMo39RaXl3f/YVHY8577zzmDNnDkuXLuUd73gHRx99dM+vW0Wn6BTgnqbtRXnfCgFd0mGkq3imTZs24rkiv9AivyQzs2G3dOlSjjjiCC644AKmTp3KDjvswL777stWW23VU7l97RSNiBMjYnZEzJ48uW0qAjOz2rvmmmt45jOfyeabb85aa63FgQceyE9/+tOey60ioC8GNmvanpr3mZlZG4sXL2azzZaHzalTp7J4ce9hs4qAPhd4cx7tsjPwkNvPzcz6r2MbuqTvA3sAkyQtAo4B1gSIiG8A5wD7AAuAR4G3jVdlzczqYMqUKdxzz/Kux0WLFjFlypSeyy0yyuWgDs8HcETPNTEzW0XssMMO3Hnnndx1111MmTKFM888kzPOOKPncj3138xWef0eQbfGGmvwla98hZe//OUsXbqUQw45hOc85zm9l1tB3czMrKR99tmHffbZp9IyncvFzKwmHNDNzGrCAd3MVklpPMfw6qZ+DuhmtsqZMGEC999//9AG9UY+9AkTJpQ6z52iZrbKmTp1KosWLeLee+8ddFVG1VixqAwHdDNb5ay55pqlVgJaWbjJxcysJhzQzcxqwgHdzKwmHNDNzGrCAd3MrCYc0M3MasIB3cysJhzQzcxqwgHdzKwmHNDNzGrCAd3MrCYc0M3MasIB3cysJhzQzcxqwgHdzKwmHNDNzGrCAd3MrCYc0M3MasIB3cysJhzQzcxqwgHdzKwmHNDNzGrCAd3MrCbWGHQFqjTj6F+M+fzdn31Fn2piZtZ/ha7QJe0l6Q5JCyQd3eb5aZIulnSDpJsl7VN9Vc3MbCwdA7qk1YGvAnsDWwEHSdqq5bCPAWdFxHbAgcDXqq6omZmNrcgV+o7AgohYGBFLgDOB/VqOCWBi/v8GwB+rq6KZmRVRJKBPAe5p2l6U9zU7FjhY0iLgHOA97QqSdJikeZLm3XvvvV1U18zMRlPVKJeDgO9GxFRgH+BUSSuUHREnRsTsiJg9efLkil7azMygWEBfDGzWtD0172v2duAsgIi4EpgATKqigmZmVkyRgH4tMEvSTElrkTo957Yc8wfgJQCSnk0K6G5TMTPro44BPSKeBN4NnA/cThrNcpuk4yTtmw97P3CopJuA7wNvjYgYr0qbmdmKCk0siohzSJ2dzfs+3vT/+cCu1VbNzMzK8NR/M7OacEA3M6sJB3Qzs5pwQDczqwkHdDOzmnBANzOrCQd0M7OacEA3M6sJB3Qzs5pwQDczqwkHdDOzmnBANzOrCQd0M7OacEA3M6sJB3Qzs5pwQDczqwkHdDOzmnBANzOrCQd0M7OacEA3M6sJB3Qzs5pwQDczqwkHdDOzmnBANzOrCQd0M7OacEA3M6sJB3Qzs5pwQDczqwkHdDOzmnBANzOrCQd0M7OacEA3M6uJQgFd0l6S7pC0QNLRoxzzOknzJd0m6Yxqq2lmZp2s0ekASasDXwX2BBYB10qaGxHzm46ZBXwY2DUiHpD01PGqsJmZtVfkCn1HYEFELIyIJcCZwH4txxwKfDUiHgCIiL9UW00zM+ukSECfAtzTtL0o72v2LOBZkq6QdJWkvaqqoJmZFdOxyaVEObOAPYCpwGWSnhsRDzYfJOkw4DCAadOmVfTSZmYGxa7QFwObNW1PzfuaLQLmRsQTEXEX8FtSgB8hIk6MiNkRMXvy5Mnd1tnMzNooEtCvBWZJmilpLeBAYG7LMT8hXZ0jaRKpCWZhddU0M7NOOgb0iHgSeDdwPnA7cFZE3CbpOEn75sPOB+6XNB+4GPhgRNw/XpU2M7MVFWpDj4hzgHNa9n286f8BHJUfZmY2AJ4pamZWEw7oZmY14YBuZlYTDuhmZjXhgG5mVhMO6GZmNeGAbmZWEw7oZmY14YBuZlYTDuhmZjXhgG5mVhMO6GZmNeGAbmZWEw7oZmY14YBuZlYTDuhmZjXhgG5mVhMO6GZmNeGAbmZWEw7oZmY14YBuZlYTDuhmZjXhgG5mVhMO6GZmNeGAbmZWEw7oZmY14YBuZlYTDuhmZjXhgG5mVhMO6GZmNeGAbmZWEw7oZmY14YBuZlYThQK6pL0k3SFpgaSjxzjuXySFpNnVVdHMzIroGNAlrQ58Fdgb2Ao4SNJWbY5bH5gDXF11Jc3MrLMiV+g7AgsiYmFELAHOBPZrc9wngc8Bj1VYPzMzK6hIQJ8C3NO0vSjvW0bS84HNIuIXYxUk6TBJ8yTNu/fee0tX1szMRtdzp6ik1YD/BN7f6diIODEiZkfE7MmTJ/f60mZm1qRIQF8MbNa0PTXva1gf2Bq4RNLdwM7AXHeMmpn1V5GAfi0wS9JMSWsBBwJzG09GxEMRMSkiZkTEDOAqYN+ImDcuNTYzs7Y6BvSIeBJ4N3A+cDtwVkTcJuk4SfuOdwXNzKyYNYocFBHnAOe07Pv4KMfu0Xu1zMysLM8UNTOrCQd0M7OacEA3M6sJB3Qzs5pwQDczq4lCo1xWJTOOHjN7AXd/9hV9qomZWTm+QjczqwkHdDOzmnBANzOrCQd0M7OacEA3M6sJB3Qzs5pwQDczqwkHdDOzmnBANzOrCQd0M7Oa8NT/inVKHQBOH2Bm48NX6GZmNeGAbmZWEw7oZmY14YBuZlYTDuhmZjXhgG5mVhMO6GZmNeGAbmZWEw7oZmY14YBuZlYTDuhmZjXhXC5DyPlgzKwbvkI3M6sJB3Qzs5pwQDczq4lCAV3SXpLukLRA0tFtnj9K0nxJN0u6SNL06qtqZmZj6dgpKml14KvAnsAi4FpJcyNiftNhNwCzI+JRSYcDxwOvH48KWzGdOlbdqWpWP0Wu0HcEFkTEwohYApwJ7Nd8QERcHBGP5s2rgKnVVtPMzDopEtCnAPc0bS/K+0bzduDcXiplZmblVToOXdLBwGxg91GePww4DGDatGlVvrSNAzfbmK1cilyhLwY2a9qemveNIOmlwEeBfSPi8XYFRcSJETE7ImZPnjy5m/qamdkoigT0a4FZkmZKWgs4EJjbfICk7YBvkoL5X6qvppmZddIxoEfEk8C7gfOB24GzIuI2ScdJ2jcf9h/AesDZkm6UNHeU4szMbJwUakOPiHOAc1r2fbzp/y+tuF5mZlaSZ4qamdWEA7qZWU04oJuZ1YTzodu4cV53s/7yFbqZWU34Ct2Gmq/yzYrzFbqZWU34Ct1qzzlpbFXhK3Qzs5rwFbpZAb1e5bsvwPrBV+hmZjXhK3SzlYSv8q0TB3SzVUgVHcTuZB5ebnIxM6sJB3Qzs5pwQDczqwm3oZtZX7lzd/w4oJvZSscds+05oJvZKqmOI37chm5mVhO+QjczG5Cq+xN8hW5mVhMO6GZmNeGAbmZWEw7oZmY14YBuZlYTDuhmZjXhgG5mVhMO6GZmNeGAbmZWEw7oZmY14YBuZlYTDuhmZjVRKKBL2kvSHZIWSDq6zfNPkfSD/PzVkmZUXlMzMxtTx4AuaXXgq8DewFbAQZK2ajns7cADEfFM4IvA56quqJmZja3IFfqOwIKIWBgRS4Azgf1ajtkP+F7+/w+Bl0hSddU0M7NOFBFjHyDtD+wVEe/I228CdoqIdzcdc2s+ZlHe/l0+5r6Wsg4DDsubWwJ3jPHSk4D7xni+iLqUMQx1GJYyhqEOw1LGMNRhWMoYhjr0q4zpETG53RN9XeAiIk4ETixyrKR5ETG7l9erSxnDUIdhKWMY6jAsZQxDHYaljGGowzCUUaTJZTGwWdP21Lyv7TGS1gA2AO7vpkJmZtadIgH9WmCWpJmS1gIOBOa2HDMXeEv+//7A/0SnthwzM6tUxyaXiHhS0ruB84HVgZMi4jZJxwHzImIu8B3gVEkLgL+Sgn6vCjXNrCJlDEMdhqWMYajDsJQxDHUYljKGoQ4DL6Njp6iZma0cPFPUzKwmHNDNzGrCAd3MrCYc0IeIpI3HepQsa1dJF0j6raSFku6StHC86j7sJG3Rw7mrSdqlyvoMA0nr9HDu2pK2rLI+XdRhdUmbSprWeAyoHnOK7OtQxswi+zqWU7dOUUm7AscC00mjeARERGxe8PzXknLRPDWf2zh/Ysl6TAYOBWbQNJooIg4Z45y7gMiv2arwz5DL+g3wPuA6YGlTIaXmB0iaDsyKiAslrQ2sERGPlCzjooh4Sad941kPSZeS5lBcC/wKuCwibilx/g0RsV3R48coZx3g/cC0iDhU0ixgy4j4ecHze3p/5zJ2Ab4NrBcR0yRtC7wzIt5V8PxXAZ8H1oqImZKeBxwXEfuWqMNxEfHxpu3VgVMi4o0Fz38PcAzwZ+AfeXdExDYFzx/zAiki/lqknFzW9RHx/JZ9pd4vo5RxXURsX7QM6PNM0U4qCqbfoU0gK+F44FURcXsX5zb7KSlwXFi0HhFR+ht5DA9FxLm9FCDpUFKqho2BLUgB8RtAoUAsaQKwDjBJ0kYs/6KaCEzpVz0AImL3PI9iB2AP4BeS1ouIonc+F0n6F+BHPc6xOJn03nxB3l4MnA0UCuj0/v6GlEDv5eT5JBFxk6QXljj/WFKOp0vy+Td2cTW5maQPR8RnJD0FOAu4ocT5c0hfhN1OYLyO5RdP04AH8v83BP4AdPx5JB0EvAGYKal5bs76pOHbHUn6J+A5wAY5/jVMBCYUKaPZUAV0qgmmvQayP1cQzAHWiYh/6/bkHABn0fRHjYjLShRxsaT/AH4EPN5UxvUlyjiC9MG9Op97p6Snljj/ncB7gU1JH6BGQH8Y+Eof64Gk3YB/zo8NSQH0VyWKeCdwFPCkpMfo8s4N2CIiXp+DARHxaMlEdj1/UefXvaflZct8OTwREQ+1nF/2S+4Q4HRJHwZeBJwTEV8qcf49wEMlX3OZxsWTpG8BP46Ic/L23sCrCxbza+BPpNwrX2ja/whwc8EytgReSXpPvqqljEMLlrHMsAX0KoJpr4FsnqQfAD9pOf9HJevxc0n7NN4oZUh6B+kKZCpwI7AzcCXw4hLF7JT/bc4JESXLeDwiljQ+uDmtQ+EPbkScAJwg6T0R8eUSr1tpPbJLSF8qnyEFjyVlTo6I9Uu+3miW5CajgGVt+4+PfcoIVXxR35ObXULSmqT3WpnP3W2S3gCsnpuMjiQFt44kNTcrnAB8E7gCuEzS80v8HAuBSyT9gpG/h/8seH7DzhGxLHBGxLmSji9yYkT8Hvg9y++2urF/RLxJ0kci4tM9lAMMSRt6063G7sDT6SGYSrq4ze6IiEKBTNLJo5w/atv3KOU8AqwLLAGeaCqn4xWdpFtITQNXRcTz8m3ZpyPitR1OrVR+Yz8IvBl4D/AuYH5EfLSLsnZhxf6EU/pVD0kbArsCLyT9bv8BXBkR/69EGb3eNSFpT+BjpLUFfpnr9NaIuKTg+T29v3MZk0jB9KWkO41fAnOKNl/kfoCPAi/Lu84HPhkRHb+YmurfCDxq+j8lPqfHtNsfEZ8ocn5TOeeT7tROy7veCLwwIl5e4NzLI2K3/FlvDqSF794kzSf9Hc4lNQWOvO0p0ZYPwxPQ2wXRhtLBdGUn6dqI2EHSjaQ0xI9Lui0inlOijA1InUaNttFLSR1XhW9TJa1GWrzkZaQ32vnAt8u2IUs6ldT2fSPLb+0jIo7sth4R8a0ydcjlPJt00fDPwC7AHyJi94Lntr1rKhNIczkbk36GnfO/VwHrR8RdZcoZJEkHRMTZnfZ1KKNdQI6IOK5kXdbLJ/6tzHlN52/M8s9JAJeRPielAmm3JB0JHA5sDvyx5elSnd0wJAG9Sr0GMklTgS+TrpwgfXvPiZzrvWRd9m2qxyUlRjL8GHgbqf35xaQOmzUjYp8Sr/3fwK0sX3jkTcC2Za7yJa0LPBYRS/P26sBTIuLRomXk824Htuq2M1HSnNx8M+a+DmUsBH4DXE760F5TptmlqrsmSVcAe0fEw3n72cDZEbF1wfOfBnwa2DQi9lZaPewFEfGdAud+mTGaqkp8wbYbkbHCvg5lvL9pcwKpHfn2ohdvkrYGTiV1lEPKH/7miLitaB1ayls3Iv6vy3NfGhEXtux7S0R8b7Rz2pTx9Yg4vJvXHyEihuZBCj4bNm1vREoGVqaM/wY+QfrG25wU3H9U4vwLSMF0jfx4K3BBFz/LZ4GLSJ0/h+RyP9NFObsD+5KGiJU578Yi+zqUcRVpaFtjez3g1138DGcDz+jhfXF9m303lCxjtW5fP59/beN3SPpSA7iti3JeQbrIWBfYHrgNeF6J888FXgfclLfXAG4peO5bxnoUOH9v0sXOn4H/anp8l/QF2cvv9ymki56ix/8aeFHT9h5dvjd3AeaT7tYAtgW+VrKMy4Cv57/p04CfAT/soi67AW/L/58EzCxdRi9/hKof7T6kXXxwbyyyb7zObzrn5uYgQspUeXOHcybmfzdu9yj5+lcCuzVt70pqIujb77LpnItJdxnnk4bKzQXmFjjvoPzheKD5PFIH50Ul6/As0hfsrXl7G+BjJc7/MWkkwrH5A/xTUudqN+/zV+eAdAvwrJLnNr5Ybujlb9J4v5Gae4oevy0p+P+ekV8GrwU26qYOTWVvRFrqsujxNxXZV6Ccq0lrOTT/Pm8tWYaADwB35sdBXdTjmPxe/23e3hS4omw5wzbKZTVJG0XEA7CsfatsHf8uabeIuDyXsSvw9xLn3y/pYOD7efsgul+sY0OWj0fdoMDxZ5BuPZvHyDb/W6Y97XDge7kJSrkeby1xPsD/NY88kLQ95X6XDcd2cQ5UMyys4VvAB0mjKoiImyWdAfx7kZMj4jX5v8fmjr0NgPOKvnib5o4NgN8B75ZEFGzuIP1NNmmUJWlnSg7fkzSbNB5+/bSpB4FDIuK6sc6LiJuAmySdERFPjHVsgTrcwvLfx+rAZKBM+/lCSf+P1OwCcDBp5Etp0dsQTkhfRjuS/p5TgemSFDkyF/QaYDvg+lynP0oqPbJq2AL6F4ArJZ1NCkL7A58qWUavgewQ0m3lF0lvuF+TmmDK+jRwQ/7wi9SWfvRYJ0TEK/O/PU8wiogbgW0lTczbD3dRzHuBsyX9kfQzPB14fRd1uVQjZ3quQ/oQdzpv2bCw3Ha8Q37q9oh4smQ11omIa1o+uKXKUBrLPisiTlaaCTwFKNqZOa9le8zgOYajSHcpm+f2+Mmkz0kZJwHviohfwbKf62TSXUsRMyR9hjRSp3nET5kLjlc2/f9J0pDlMn+PQ0hNq40RcL/K+8rqdQgnpKbJz0bESXlI6udIQzHLpItYEhEhqfFFvW7JOiS93CaNx4M0a+rd+bFVD+VMJDdhDOBnWI3UzvkMUvv3vsDTS5y/QnNCu32jnHtw/veodo8ufpY1ga3zY80ufx+Hkqbc/y5vzyr68+TjDyAF9u8Bp5CC6P4l63AuaaTN9Xl7f+DcEudXcktcwXtrAun2/gJSMPsgMKFkGTe02bdCP8UY519OmqV7MykFwbGkgQd9/V1U9PucBJxO6hf4C2n44iYly5jWZt8LS5bxAdLd48L8ebkSeE/Zn2foRrnkkRRPY+R45T8UOO/giDhN0lHtno8OEw4kfSgijh9tJEAUvyVulFd6oVctnyp/MSPHpE4EzouIfypQxjsj4psVDgvrevx4Uxk3kmd6Rs5vIemWiHhuwfNvAvaMiL/k7cnAhRGxbYk6bE5aCWYXUpv8XcAbI90FFP0ZtiMFvsbPcHMUzx1yVkS8rqWpYZky5ZBm2p6ed72BNJDggCLn5zK+BKxNalYM0l3XY+Sx2NFhco9yjpHmv6G6yDvSDUlfioj3SvoZ7X+PhfPJVFinnvLzNJWzJyOH5l5Qti5D1eSikQl3lrK87bjIm71xi9Ku3anIt1bjNqv11rhbF0r6APADYNlwqBh7fGvPU+Uj4puN14+IK5qfy/0JhY02fpx0lVxGrzM9V2sE8+x+ymcKXUxqVriY1Mn8MKlDr+gXXK+3xHPyv68c86jOto6IrZq2L86TU8pofBG2fulvR7HZxI/nuQF3Ki1PuZg0AqofGm3mn6+iMEnPIo1QeVpEbC1pG2DfiCjUt5KdTG/5eQDIAbx0EG8tZGgewAJK3u60KWPXIvvGOP+AIvsKlHNXm8fCgueWvtVqU0a7oX6Fb6vz8beT5yr0WJfjgY+QxoHvSRox8qmS559P6gt5K6n55HMl63AecCbwIdLV1PuB95c4v5Jb4gp+l6eRpqs3tnciZSnsZx12IAXwqaRg9qPmOvWpDnOK7CtQzqWku8cbmvaVHeUyL//bXEahETekDv6H2zweAR4u+/MMVZNL7kDcM8p3eDWX0dOkhyomTVSh26YOSS8gNSu8l9Sx2zAReE2Ua6Y4GzgyIv5U9JxRyulpxmm+0/kz8Ly86/KI+HHJOtwaBSfvjHL+kaQRNzvSxS2xVpwevuwpSiT5ypO0tiRlBISUKfAOUsdiRIGmG1Uwi3jQRvmc3hAlUxxr+azsZedKujEinleijF+T+hSuiIjnK+Xn+X5E7FimLlUYqiYXeki40xTIJre0o0+kwIgKpSxr+wBTJP1Xy/mlv2AkHQGcHhEP5u2NSONTv1bg3F6aOtYiXT2twcjmp4cpPxpiEjBf0jWM/HuUaqeMiH+Qhg2Wnq6frUsaIfRXUhNWoURQLX4t6blRIgd6i6eSklBdTxolcuHYh48U1SX32quCMk4izSJ+Xd5+E+lKe8xZr6O1WzeUfV90QxWkrG1xXw7Ajaa0/Ulf3GUcQ7oD3EzS6eT8PF3UpWfDdoXeriOPKJBwR9LupI7EfyXlym54BPhZRNzZ4fxtSVeAxwEfb3rqEeDiyGPji2r3LV/0CkI9TpXPZUyPgh1+Y5Sxe7v9EXFpwfPbdgA2lVN0mFyjvG1IHXj/AiyKiJeWOHc+8ExS09fjLL8yLlwHpU6Al5GGsc4m5fD+TkT8rvAPMQRGeW92vCptej+8ljSEtZHQ6iDSsMP3VVzVdnWYTspV/hlGDgN+hDRxr+xQ1F47y1cjXShdRFN+noi4r0w9qjJUAb1B0jpRMl9I07k9BbI8bvv/ovf8JbcA2zSCci7n5iiQYKuKpg5JF5Da/h/M2xsBZ0aBLHJVyR8+SPnMYeQkkIiIMcfltynv6aQhjAeSZjiWCcbT2+0v+17JX/xvI10pX0z6EF8QER8qU84gSboS+GCMnHz3+YgolAa23QiubkZ19SIH4j9GxGN5e21Sx+bdJct5Cikgz2B5Z3lEidFg/f7Zx1J2pMC4kvSCfCX1m7y9raSOTRQtvq2UKrVR5kZKKTKL+iVpSFfD2pS8vc7OA34g6SWSXkIaIlZ0ZmGjqeN8SXMbj5KvP6kRzAHyHUbZRSF2lnStpL9JWiJpqaTCE5Qi4vc5YO4ZER+KiFvy499Ynnq1SD3eJekS0lXQJsChZa/uG3VpfZSowxxJ15E6aK8AnhspmdL2pDuGlcnhwFcl3S3pbtIIqn8tcf66OaACoLRaUXcTYbp3FsuXnoPUNFk422OTn5IWlniClO3wbzSNSivoQkkfkLSZulwDuCrD1ob+JXpbGgvaBDKVW91mQjSl4oyIv6m7xXT/jTQMsZFB7QLSOo5FHNvF67X6h6Rpkcfw5yvUsrdjXyFdDZ9NamJ4MyknSlmStGvkYZS5w7fMxcRmwHsjzX4dlI2B17Z+CUTEPyT1OhSxr6L3WcTvI/V1LSQ1MUwnvdf7aY1oypYZaVjsWl2UMzUieu2XeD3ps9W6Jmup1LdVGLaATvSeV6HXQFZJ/pLcEfj1/Ch77qXqYqp8i48ClystjixSDvDDuqjLAkmr5yaokyXdAHy4ZDFvB07S8nQMD1BimnZElH29ykVE2/6d/FwVSxb2jXpIwQsQEecpTZ5pTHT7TRRY3KJi90raNyLmAkjaj5RCt6xeO8shpUB4FylbYpDSEHxjzDPGyVC1oUv6IfCfpCvDnUiTMWZHxIElytiL1MkxIpBFRKFmF0k7kMYrj8hfEh0SF7UpZxap46Z0vgs1LYocEVvksr4REYUXRc7lTCK18UIXHTWSLiOtpvJt4H9Jvf9vjRJDH1vK2wBgZRoeV0eSziWNavloRGyrNNHrhugwc1fSiyPifzRyMeNlovwyjV3LI1NOJ+XTCWARKR/6gpLlVNFZ3m727gYR8brRzxofwxbQe1oaq6WcXgLZmqSxvgB3RBeZ5SRdThrO9EVSG93bSDMePz7miencG+lhqnw+XqTltDaPiOMkTSPlk7mmRBnTSeO/1yLdZm9AyhVd6EOjHtMx2PhQl2OvJX0iIo5RRcs0VkG9r1jUc2e5pPkxcvZu2339MDRNLnkUyAkR8cYeyxFpBMKyQCZpx6KBLDdvHAVMj5yXQVLpvAzA2hFxkSTlN8exuVOtY0CnmkWRv0bqNHoxaSjmI6TFP3YY66SG/Pf4dP57PEbKbFfWWOkYbHC6SsHbaHaKiG6yj1aq12ajhrKjnEZxvaSdI+KqXLedqC6FSClDE9AjYqmk6ZLWipIrsrfoKZBRUV4Gest3camkjwBrKyXseRcp018ZO0WatXYDLOscLtxpVMXfI3JemSi5cK+Nu65S8I52p9XQ5zuu75KbjfL2b0mTzkoF9F5o+TyLNUlt8X/I29PJI/X6bWgCerYQuCIP0WtOaFXmjdJTIAO2iIjXK81IIyIeVUsvbUFzSJkTjwQ+CbyINEqkiKNJHYm3kEYPnEPxETINT+Sr7MZV2GRGDvMqooq/B5KOJy0k8XfS0M1tgPdFxGljnmjjZT4pn86jpAuen5ACYieNO60tSRdIjaG0rwIKN+VVZFJEnCXpwwAR8aSksgMoejV0o5uGIqBLOjUi3kTKG/5F0pC2bm/Tew1kS5QmKTTO34Kmae8lBGkizXTSNzikqe8dO1ui96nykNZ6/DHwVEmfIl2BfazIiRX/PQBeFhEfkvQa4G7STMPLWD7T0PrrFFIn3qfz9htI79UxU/A27rRyZ/nzI+KRvH0s8Ivxquwoel65qVcVNddUaigCOrC9pE1JCYe+3GNZXQeyrKq8DKeTFh+4hYJfKKpwqnxEnJ7b7F9C6mB+dYnhdVX+PWD5++wVpBXuH+rupscq0msK3qcBzc1wS/K+fmo0G21Rptmo7oYloH+DNAtwJiM7E0qvpdljICMiLpB0PcvzMswpO0omu7cxRraExi1c26nyRQrQyBlqf2H52qhI2jjGzsfeUNnfI/u5pN+QmlwOz3dNj5Usw6rTayfeKcA1khoZL19NWk2qbyLieqXcMluS3pddjUarm2Ebtvj1SNOpuzl3zKm2nQKZpDHT40aHVVzalPcSUtKiixiZqbDjWF21SeKlgil8Jd0FyxaWXvayLB9fWzgY9/L3aFPWxsBDubN1XVIulv+tomwrR9Wk4N2eNJEG4LKIuGE86trmdcfMCNnPsfDDaKgCei9aAlnzD1UokCnlYh9NRESnVVxayzuNNJPuNpY3uRQaq5vHoR8RI6fKf63TOOFh1TQUdFpEHKYul+iyaow29rqhSNuwulwqslejjIFvqkL/x8IPk9oE9IY8VPCNwMymCTXPiIir+1yPOyJiy85Htj13e1LO6hFT5cvcJTRNLJoZEZ/sZmJRVST9gDQU9M2RlvlaB/j1yvoFtarTKEtFlunjsfFRx4D+dfI49Ih4tlLa2F9GRNEJNZVcTeYrif+IiLLrPTaX0fVU+V5/D1VSTi+qkTMTb4ouUwjYYElaQBoeXGoGd8V1qGRiUd0MS6dolXodh96YWLRL3u52YtHOwI25KahQjgiNMlW+MSKkz+Pxq1TVUFAbDvfQ5yGCbXyXAU8sGkZ1DOi9jkOvamJRNyk5q5wqX8XEoqoMzRJdVomul4qs0DBMLBo6dQzovY5Dr+RqsptJBxVPle/191CJ3KexEWkyUa9DQW04/CE/1sqPQRj4xKJhVLs2dABJ/8TycegXlRmHrpQ75WOktLe/JF9NRsQl41DV0epQyVT5Xn4PVdIQLdFl9ZCHGX8Z2Jq04PVkYP+IuHmgFRuwWgb0XuVv/oEt+KqcyjRPlX8lqZP2spW1E1HSZ0mLD/yAkTlhulml3QYsN999CHgOI3P9lxraW0E91sATi0aoY5NLz3Lvfb9zUzSr21T5oVmiyypxOunL+ZWktUjfAtzb70pExJOkeR6WDdUi0bZMY6r89sBFNZgqvxXwVeAm4EbSrfJzBlkh68kmeXjgExFxaZ7M09erc2vPTS5Dqk5T5TVES3RZ7yRdFRE7Szqf1Pn+R+CHEbHFgKu2ynOTS9ZrLpiK67IOqXliGmlt0U1JbYWFx8LnnBefA55KamNsjIOfWHmFO+s1u58Nl3/Pk97eT7rbmgi8tx8vXHXOpbpxQF/uOlZMatXQTYbBXlQxuel44FWDGtnSYmiW6LJKHABcHhG3Ai/KF0Ofp/yqWt34whjPBat4048DehYRMwddhyZVTG7685AEc0h9AY0luiBn92vkf3cOkJXONhHxYGMjIv4qabsxjq9MRLyoH6+zsnJAbyPnPZnFyCFZl/WxCl1PbmpKLzovJ8X6CSXT946DbmbN2vBaTdJGEfEALGuu7HsskbQ1qcO9+XN6Sr/rMUwc0FtIegdpPdCppBEZOwNX0t9buV6myr+q6f+PAi9r2g6g7wG9m1mzNtS+AFwp6ey8fQDwqX5WQNIxwB6kgH4OsDdwOWnxjVWWR7m0yM0AO5AmFD0vz7b8dESMmVi/wtdfjTRN/yIGOLnJbCw5u2HjIud/eskq2uXr3wJsC9wQEdvm7IunRcSe/azHsPEV+ooei4jHJCHpKRHxG0ld5TXvRkT8Q9KHIuIsepjcJOl7pJwpD+btjYAvrOoLAFg1cgAf5Eilv+fPypOSJpKWW9xsgPUZCg7oK1okaUNS2/MFkh4A+t1kcKGkD9DbVPnWjqsH+tVxZdYH8/Ln9FukEWF/IzWNrtLc5DIGpUVoNwDOi4glnY6v8HXvarM7otx6oDcBe7R0XF0aEc+tqJpmA5FHfE2NiHvy9gxg4qqemAsc0JeRNDEiHh5tgtHKlkhK0puBj5DGr4vULv+piDh1oBUzq4CkW3xxsiIH9EzSzyPilVpxselCi0xXXJcJpJmiu+U6/Ar4RkSUyuci6TlAY9xu3zuuzMZL7iP6SkRcO+i6DBMH9CGUc588AjTyn78B2DAiDihZzkBWZjcbbzl53TNJ/Vv/hxeqBhzQVyDpooh4Sad941yH+S25T9ru61CGV2a32pI0vd3+VX3Og0e5ZLmZYx1gUh7i15hqPxGY0ufqVJH7ZA6w5SBXZjcbLxHxe0m7AbMi4uScYnq9Qddr0BzQl3snKWPcpqRhUI2A/jDwlT7XpYrcJ8OwMrvZuMgzRWeTspCeDKxJaqLcdZD1GjQ3ubSQ9J6I+PKA69D2drKhyG2lpO+Q3uyDXJndbFxIuhHYDrg+IrbL+25e1ZsUfYXeIiK+LGkXYAYjOxP7liOionbAYViZ3Wy8LImIkNRIYLfuoCs0DBzQW0g6FdiClJhrad4drGRJfyLiE5AWy4iIRwddH7OKnSXpm8CGkg4FDiHNGl2lucmlhaTbga1iJf/FSHoB8B1gvYiYJmlb4J0R0bpQs9lKSdKepGyiAs6PiAsGXKWBc0BvkVOCHhkRfxp0XXoh6WrS7NC5TW2Mt0bE1oOtmZmNFze5rGgSMF/SNYzsTNy3XxWoaj3QiLinZaGjpaMda7YyGbI1c4eGA/qKjh10BahmPdB7cuduSFqTNC59WJakM+vVMK2ZOzQc0FtExKV52OCsiLhQ0jrA6n2uRhXrgf4rcAJpUtRi4JfAEb1WzGxIDNOauUPDbegtco/5YcDGEbGFpFmkxFjjPvW/aT3Q3YGn0+V6oDmHyykR8caq62g2DCSdQA+fkbryFfqKjgB2BK4GiIg7JT21T69dyXqgEbFU0nRJa/Uzj7tZH01kSNbMHSYO6Ct6PCKWNDoTJa1BeqOMu4h4W4XFLQSukDSXkaseeaaorfQq/qzUxmqDrsAQulTSR4C18zjXs4Gf9bMCkr6Xl9dqbG8k6aSSxfwO+Dnpb7x+08NspSfpWZIuknRr3t5G0scGXa9Bcxt6C0mrAW+nacIC8O1+TjSSdENj7PhY+0Y599SIeJOkORFxwvjV0mxwJF0KfBD4pudZLOcmlxYR8Q/SFOJBTiNeTdJGLeuBFv1bbS9pU+AQSaewPGsksPItpWc2inUi4pqWeRZPDqoyw8IBPWukph3t+T5ncfsCcGWetbpsPdCC534DuAjYnJFpgCH9fH1bSs9sHN0naQvyZ1bS/sBKPbu7Cm5yyZpS1jbGajcWUz6YNAPt6D7Xp6f1QCV9PSIOr75mZoMnaXPgRGAX4AHgLuDgiLh7kPUaNAf0FqO0X18fEc/vcz28HqhZBzlt7moR8cig6zIM3OSyIknaNSKuyBu70OfRQKOtBwqs0sn7zRokHdWyDWmFrusi4sZB1GkY+Aq9haTtgZOADUiB9AHgkIi4vo91WADs5PVAzdqTdAZpCbrGkOJXAjeTFqY5OyKOH1DVBsoBfRSSNgCIiL6vyynpYmDPiFjle+3N2pF0GbBPRPwtb69HWm5xL9JV+laDrN+guMklk3RwRJw2yq1cv2dYLgQukeT1QM3aeypNnw3gCeBpEfF3SY+Pck7tOaAv11iTcBhmU3o9ULOxnQ5cLemneftVwBm5k7TUiLA6cZPLEPN6oGajkzQb2DVvXhER8wZZn2HgXC4tJB0vaaKkNXOuiHslHdznOrxA0nzgN3l7W0lf62cdzIZdRMyLiBPyY5UP5uCA3s7LIuJhUq/53cAzSTkj+ulLwMuB+wEi4ibghX2ug5mtZBzQV9ToV3gFafhT30e5QFoPtGWX1wM1szG5U3RFP5f0G+DvwOGSJgOP9bkOXg/UzEpzp2gbObvhQ3nln3WB9SPif/v4+pNI64G+lDS56ZfAHE80MrOx+Aq9RV4U+l3ANNLaopsCW5IWi+jH668OnOD1QM2sLLehr+hkYAkpixvAYuDf+/XiEbEUmC7J48/NrBRfoa9oi4h4vaSDACLiUbVk0e8DrwdqZqU5oK9oiaS1WZ44fwtGTjHuh9/lR2M9UDOzjhzQV3QMcB6wmaTTSTPR3tqPF26sBwo86PVAzawsj3JpkheI3p+0hNvOpBEmV0XEfX16/fmkkS3nAnvg9UDNrAQH9BaS5kXE7AG99pHA4aR1PxfTsh5oRHg9UDMblQN6C0mfBe4DfsDIDsm+XR17PVAz64YDegtJd7XZ7atjMxt6DuhmZjXhUS4tJE0gzRTdjTR08VfANyKi3/lczMxK8RV6C0lnAY8Ap+VdbwA2jIgDBlcrM7POHNBbSJrfusBsu31mZsPGuVxWdL2knRsbknYCvBqKmQ09X6G3kHQ7KbviH/KuacAdwJOk0S7bDKpuZmZjcUBvIWn6WM9HxO/7VRczszIc0M3MasJt6GZmNeGAbmZWEw7oZmY14YBuZlYT/x8LyXlpLii4xwAAAABJRU5ErkJggg==",
      "text/plain": [
       "<Figure size 432x288 with 1 Axes>"
      ]
     },
     "metadata": {
      "needs_background": "light"
     },
     "output_type": "display_data"
    }
   ],
   "source": [
    "df_words_freq = pd.DataFrame.from_dict(data = wordcloud.words_, orient='index')\n",
    "df_words_freq = df_words_freq.head(20)\n",
    "df_words_freq.plot.bar()"
   ]
  },
  {
   "cell_type": "markdown",
   "id": "090dbc0e",
   "metadata": {},
   "source": [
    "### L'application du modèle d'analyse de sentiments"
   ]
  },
  {
   "cell_type": "code",
   "execution_count": 14,
   "id": "532bef20",
   "metadata": {},
   "outputs": [],
   "source": [
    "df_copy = (\n",
    "    df_copy\n",
    "    .assign(sentiment = lambda x: x['Text'].apply(lambda s: sentiment_classifier(s)))\n",
    "    .assign(\n",
    "         label = lambda x: x['sentiment'].apply(lambda s: (s[0]['label'])),\n",
    "         score = lambda x: x['sentiment'].apply(lambda s: (s[0]['score']))\n",
    "    )\n",
    ")"
   ]
  },
  {
   "cell_type": "code",
   "execution_count": 18,
   "id": "e1b783f0",
   "metadata": {},
   "outputs": [
    {
     "data": {
      "text/html": [
       "<div>\n",
       "<style scoped>\n",
       "    .dataframe tbody tr th:only-of-type {\n",
       "        vertical-align: middle;\n",
       "    }\n",
       "\n",
       "    .dataframe tbody tr th {\n",
       "        vertical-align: top;\n",
       "    }\n",
       "\n",
       "    .dataframe thead th {\n",
       "        text-align: right;\n",
       "    }\n",
       "</style>\n",
       "<table border=\"1\" class=\"dataframe\">\n",
       "  <thead>\n",
       "    <tr style=\"text-align: right;\">\n",
       "      <th></th>\n",
       "      <th>Datetime</th>\n",
       "      <th>Tweet Id</th>\n",
       "      <th>location</th>\n",
       "      <th>Text</th>\n",
       "      <th>Username</th>\n",
       "      <th>sentiment</th>\n",
       "      <th>label</th>\n",
       "      <th>score</th>\n",
       "    </tr>\n",
       "  </thead>\n",
       "  <tbody>\n",
       "    <tr>\n",
       "      <th>0</th>\n",
       "      <td>2022-01-17 00:07:28+00:00</td>\n",
       "      <td>1482867129024225283</td>\n",
       "      <td>London</td>\n",
       "      <td>africatechie  dibussi a rigged election like e...</td>\n",
       "      <td>LIVEBPLUPDATES</td>\n",
       "      <td>[{'label': 'NEGATIVE', 'score': 0.996187031269...</td>\n",
       "      <td>NEGATIVE</td>\n",
       "      <td>0.996187</td>\n",
       "    </tr>\n",
       "    <tr>\n",
       "      <th>1</th>\n",
       "      <td>2022-01-16 23:46:04+00:00</td>\n",
       "      <td>1482861744754028547</td>\n",
       "      <td>Elstree</td>\n",
       "      <td>on httpst.cowryhbbpfcr  ahead of election macr...</td>\n",
       "      <td>NewsPlayerPlus</td>\n",
       "      <td>[{'label': 'NEGATIVE', 'score': 0.973543882369...</td>\n",
       "      <td>NEGATIVE</td>\n",
       "      <td>0.973544</td>\n",
       "    </tr>\n",
       "    <tr>\n",
       "      <th>2</th>\n",
       "      <td>2022-01-16 23:14:10+00:00</td>\n",
       "      <td>1482853717099659268</td>\n",
       "      <td>Sheffield, UK</td>\n",
       "      <td>ahead of election macron banks on rosy french ...</td>\n",
       "      <td>FintechBot</td>\n",
       "      <td>[{'label': 'NEGATIVE', 'score': 0.946683108806...</td>\n",
       "      <td>NEGATIVE</td>\n",
       "      <td>0.946683</td>\n",
       "    </tr>\n",
       "    <tr>\n",
       "      <th>3</th>\n",
       "      <td>2022-01-16 21:36:19+00:00</td>\n",
       "      <td>1482829089471934465</td>\n",
       "      <td>London</td>\n",
       "      <td>nonwokenews garethicke they do indeed. the cli...</td>\n",
       "      <td>voulezvousparle</td>\n",
       "      <td>[{'label': 'NEGATIVE', 'score': 0.971064507961...</td>\n",
       "      <td>NEGATIVE</td>\n",
       "      <td>0.971065</td>\n",
       "    </tr>\n",
       "    <tr>\n",
       "      <th>4</th>\n",
       "      <td>2022-01-16 21:07:23+00:00</td>\n",
       "      <td>1482821809259044868</td>\n",
       "      <td>North West, England</td>\n",
       "      <td>lorraineteuten they will try everything  like ...</td>\n",
       "      <td>Shivajihimself</td>\n",
       "      <td>[{'label': 'NEGATIVE', 'score': 0.983163297176...</td>\n",
       "      <td>NEGATIVE</td>\n",
       "      <td>0.983163</td>\n",
       "    </tr>\n",
       "    <tr>\n",
       "      <th>...</th>\n",
       "      <td>...</td>\n",
       "      <td>...</td>\n",
       "      <td>...</td>\n",
       "      <td>...</td>\n",
       "      <td>...</td>\n",
       "      <td>...</td>\n",
       "      <td>...</td>\n",
       "      <td>...</td>\n",
       "    </tr>\n",
       "    <tr>\n",
       "      <th>395</th>\n",
       "      <td>2018-11-22 22:12:34+00:00</td>\n",
       "      <td>1065729779561832453</td>\n",
       "      <td></td>\n",
       "      <td>french judges have been empowered to remove fa...</td>\n",
       "      <td>profsked</td>\n",
       "      <td>[{'label': 'POSITIVE', 'score': 0.974675357341...</td>\n",
       "      <td>POSITIVE</td>\n",
       "      <td>0.974675</td>\n",
       "    </tr>\n",
       "    <tr>\n",
       "      <th>396</th>\n",
       "      <td>2018-11-21 00:10:31+00:00</td>\n",
       "      <td>1065034686316060674</td>\n",
       "      <td>Scotland</td>\n",
       "      <td>boblisterpoole macron is a fart in an elevator...</td>\n",
       "      <td>jmilprint</td>\n",
       "      <td>[{'label': 'NEGATIVE', 'score': 0.994669139385...</td>\n",
       "      <td>NEGATIVE</td>\n",
       "      <td>0.994669</td>\n",
       "    </tr>\n",
       "    <tr>\n",
       "      <th>397</th>\n",
       "      <td>2018-11-20 03:14:25+00:00</td>\n",
       "      <td>1064718580623831040</td>\n",
       "      <td></td>\n",
       "      <td>french protestors are denouncing the rising co...</td>\n",
       "      <td>profsked</td>\n",
       "      <td>[{'label': 'NEGATIVE', 'score': 0.990064442157...</td>\n",
       "      <td>NEGATIVE</td>\n",
       "      <td>0.990064</td>\n",
       "    </tr>\n",
       "    <tr>\n",
       "      <th>398</th>\n",
       "      <td>2018-11-19 21:06:32+00:00</td>\n",
       "      <td>1064625998770118656</td>\n",
       "      <td></td>\n",
       "      <td>normaburke norma this has nothing to do with t...</td>\n",
       "      <td>Maebhcon</td>\n",
       "      <td>[{'label': 'NEGATIVE', 'score': 0.997036933898...</td>\n",
       "      <td>NEGATIVE</td>\n",
       "      <td>0.997037</td>\n",
       "    </tr>\n",
       "    <tr>\n",
       "      <th>399</th>\n",
       "      <td>2018-11-18 20:02:42+00:00</td>\n",
       "      <td>1064247546137194496</td>\n",
       "      <td>Paris</td>\n",
       "      <td>ibjiyongi aerynthrace athenedonald i am sorry ...</td>\n",
       "      <td>DrFulli</td>\n",
       "      <td>[{'label': 'NEGATIVE', 'score': 0.952411592006...</td>\n",
       "      <td>NEGATIVE</td>\n",
       "      <td>0.952412</td>\n",
       "    </tr>\n",
       "  </tbody>\n",
       "</table>\n",
       "<p>400 rows × 8 columns</p>\n",
       "</div>"
      ],
      "text/plain": [
       "                     Datetime             Tweet Id             location  \\\n",
       "0   2022-01-17 00:07:28+00:00  1482867129024225283               London   \n",
       "1   2022-01-16 23:46:04+00:00  1482861744754028547              Elstree   \n",
       "2   2022-01-16 23:14:10+00:00  1482853717099659268        Sheffield, UK   \n",
       "3   2022-01-16 21:36:19+00:00  1482829089471934465               London   \n",
       "4   2022-01-16 21:07:23+00:00  1482821809259044868  North West, England   \n",
       "..                        ...                  ...                  ...   \n",
       "395 2018-11-22 22:12:34+00:00  1065729779561832453                        \n",
       "396 2018-11-21 00:10:31+00:00  1065034686316060674             Scotland   \n",
       "397 2018-11-20 03:14:25+00:00  1064718580623831040                        \n",
       "398 2018-11-19 21:06:32+00:00  1064625998770118656                        \n",
       "399 2018-11-18 20:02:42+00:00  1064247546137194496                Paris   \n",
       "\n",
       "                                                  Text         Username  \\\n",
       "0    africatechie  dibussi a rigged election like e...   LIVEBPLUPDATES   \n",
       "1    on httpst.cowryhbbpfcr  ahead of election macr...   NewsPlayerPlus   \n",
       "2    ahead of election macron banks on rosy french ...       FintechBot   \n",
       "3    nonwokenews garethicke they do indeed. the cli...  voulezvousparle   \n",
       "4    lorraineteuten they will try everything  like ...   Shivajihimself   \n",
       "..                                                 ...              ...   \n",
       "395  french judges have been empowered to remove fa...         profsked   \n",
       "396  boblisterpoole macron is a fart in an elevator...        jmilprint   \n",
       "397  french protestors are denouncing the rising co...         profsked   \n",
       "398  normaburke norma this has nothing to do with t...         Maebhcon   \n",
       "399  ibjiyongi aerynthrace athenedonald i am sorry ...          DrFulli   \n",
       "\n",
       "                                             sentiment     label     score  \n",
       "0    [{'label': 'NEGATIVE', 'score': 0.996187031269...  NEGATIVE  0.996187  \n",
       "1    [{'label': 'NEGATIVE', 'score': 0.973543882369...  NEGATIVE  0.973544  \n",
       "2    [{'label': 'NEGATIVE', 'score': 0.946683108806...  NEGATIVE  0.946683  \n",
       "3    [{'label': 'NEGATIVE', 'score': 0.971064507961...  NEGATIVE  0.971065  \n",
       "4    [{'label': 'NEGATIVE', 'score': 0.983163297176...  NEGATIVE  0.983163  \n",
       "..                                                 ...       ...       ...  \n",
       "395  [{'label': 'POSITIVE', 'score': 0.974675357341...  POSITIVE  0.974675  \n",
       "396  [{'label': 'NEGATIVE', 'score': 0.994669139385...  NEGATIVE  0.994669  \n",
       "397  [{'label': 'NEGATIVE', 'score': 0.990064442157...  NEGATIVE  0.990064  \n",
       "398  [{'label': 'NEGATIVE', 'score': 0.997036933898...  NEGATIVE  0.997037  \n",
       "399  [{'label': 'NEGATIVE', 'score': 0.952411592006...  NEGATIVE  0.952412  \n",
       "\n",
       "[400 rows x 8 columns]"
      ]
     },
     "execution_count": 18,
     "metadata": {},
     "output_type": "execute_result"
    }
   ],
   "source": [
    "df_copy"
   ]
  },
  {
   "cell_type": "markdown",
   "id": "97f31078",
   "metadata": {},
   "source": [
    "Si le résultat du modèle est 1 --> on insère sentiment 'POSITIVE'\n",
    "\n",
    "Si le résultat du modèle est 0 --> on insère sentiment 'NEGATIVE'"
   ]
  },
  {
   "cell_type": "code",
   "execution_count": 28,
   "id": "527707f0",
   "metadata": {},
   "outputs": [],
   "source": [
    "df_copy['target'] = np.where(df_copy['label'] == 'POSITIVE', 1, 0)\n",
    "df_copy.to_csv(\"complet.csv\", sep='\\t', encoding='utf-8')"
   ]
  },
  {
   "cell_type": "markdown",
   "id": "3d72671a",
   "metadata": {},
   "source": [
    "### La division du DataFrame en train et test selon le ratio 70/30"
   ]
  },
  {
   "cell_type": "code",
   "execution_count": 29,
   "id": "b0d5143d",
   "metadata": {},
   "outputs": [
    {
     "name": "stderr",
     "output_type": "stream",
     "text": [
      "/home/NullByte/.local/lib/python3.10/site-packages/pandas/core/frame.py:4906: SettingWithCopyWarning:\n",
      "\n",
      "\n",
      "A value is trying to be set on a copy of a slice from a DataFrame\n",
      "\n",
      "See the caveats in the documentation: https://pandas.pydata.org/pandas-docs/stable/user_guide/indexing.html#returning-a-view-versus-a-copy\n",
      "\n"
     ]
    }
   ],
   "source": [
    "from numpy.random import RandomState\n",
    "rng = RandomState()\n",
    "train = df_copy.sample(frac=0.7, random_state=rng)\n",
    "test = df_copy.loc[~df_copy.index.isin(train.index)]\n",
    "test.drop(test.columns[len(test.columns)-1], axis=1, inplace=True)\n",
    "train.to_csv(\"train.csv\", encoding='utf-8')\n",
    "test.to_csv(\"test.csv\", encoding='utf-8')\n"
   ]
  },
  {
   "cell_type": "markdown",
   "id": "2034dd07",
   "metadata": {},
   "source": [
    "### Lancement d'une session Spark pour appliquer le modèle"
   ]
  },
  {
   "cell_type": "code",
   "execution_count": 20,
   "id": "25f2008d",
   "metadata": {},
   "outputs": [],
   "source": [
    "from pyspark.sql import SparkSession\n",
    "from pyspark.ml.feature import CountVectorizer, RegexTokenizer, StopWordsRemover\n",
    "from pyspark.sql.functions import col, regexp_replace\n",
    "from pyspark.ml.classification import NaiveBayes\n",
    "from pyspark.ml.evaluation import MulticlassClassificationEvaluator"
   ]
  },
  {
   "cell_type": "code",
   "execution_count": 21,
   "id": "6eb91bfd",
   "metadata": {},
   "outputs": [
    {
     "name": "stdout",
     "output_type": "stream",
     "text": [
      "huggingface/tokenizers: The current process just got forked, after parallelism has already been used. Disabling parallelism to avoid deadlocks...\n",
      "To disable this warning, you can either:\n",
      "\t- Avoid using `tokenizers` before the fork if possible\n",
      "\t- Explicitly set the environment variable TOKENIZERS_PARALLELISM=(true | false)\n"
     ]
    },
    {
     "name": "stderr",
     "output_type": "stream",
     "text": [
      "Using Spark's default log4j profile: org/apache/spark/log4j-defaults.properties\n",
      "Setting default log level to \"WARN\".\n",
      "To adjust logging level use sc.setLogLevel(newLevel). For SparkR, use setLogLevel(newLevel).\n",
      "22/01/17 13:22:38 WARN NativeCodeLoader: Unable to load native-hadoop library for your platform... using builtin-java classes where applicable\n"
     ]
    }
   ],
   "source": [
    "spark = SparkSession.builder.getOrCreate()"
   ]
  },
  {
   "cell_type": "code",
   "execution_count": 30,
   "id": "c75bd8ad",
   "metadata": {},
   "outputs": [],
   "source": [
    "from numpy.random import RandomState\n",
    "\n",
    "\n",
    "rng = RandomState()\n",
    "\n",
    "train = df_copy.sample(frac=0.7, random_state=rng)\n",
    "test = df_copy.loc[~df_copy.index.isin(train.index)]\n",
    "test.drop(test.columns[len(test.columns)-1], axis=1, inplace=True)\n",
    "train.to_csv(\"train.csv\", encoding='utf-8')\n",
    "test.to_csv(\"test.csv\", encoding='utf-8')\n"
   ]
  },
  {
   "cell_type": "code",
   "execution_count": 31,
   "id": "e16f1d7f",
   "metadata": {},
   "outputs": [
    {
     "name": "stdout",
     "output_type": "stream",
     "text": [
      "root\n",
      " |-- id: integer (nullable = true)\n",
      " |-- Datetime: string (nullable = true)\n",
      " |-- Tweet Id: long (nullable = true)\n",
      " |-- location: string (nullable = true)\n",
      " |-- Text: string (nullable = true)\n",
      " |-- Username: string (nullable = true)\n",
      " |-- sentiment: string (nullable = true)\n",
      " |-- label: string (nullable = true)\n",
      " |-- score: double (nullable = true)\n",
      " |-- target: integer (nullable = true)\n",
      "\n"
     ]
    }
   ],
   "source": [
    "spark_df_train = spark.read.csv('train.csv', header = True, inferSchema = True)\n",
    "spark_df_test = spark.read.csv('test.csv', inferSchema=True, header=True)\n",
    "sdf_sample_submission = spark.read.csv('test.csv', inferSchema=True, header=True)\n",
    "sdf_train = spark_df_train.withColumnRenamed(\"_c0\",\"id\")\n",
    "sdf_test = spark_df_test.withColumnRenamed(\"_c0\",\"id\")\n",
    "sdf_train.printSchema()"
   ]
  },
  {
   "cell_type": "code",
   "execution_count": 32,
   "id": "184e75c8",
   "metadata": {},
   "outputs": [
    {
     "name": "stdout",
     "output_type": "stream",
     "text": [
      "+---+--------------------+-------------------+--------------------+--------------------+---------------+--------------------+--------+------------------+------+\n",
      "| id|            Datetime|           Tweet Id|            location|                Text|       Username|           sentiment|   label|             score|target|\n",
      "+---+--------------------+-------------------+--------------------+--------------------+---------------+--------------------+--------+------------------+------+\n",
      "|171|2021-10-30 18:57:...|1454522986447388678|                null| more about the f...|         ebbo51|[{'label': 'POSIT...|POSITIVE|0.9839222431182861|     1|\n",
      "| 77|2022-01-12 07:46:...|1481170606687236097|              London|if like me you’re...|   BBCRosAtkins|[{'label': 'POSIT...|POSITIVE|0.9997370839118958|     1|\n",
      "|379|2018-12-27 11:59:...|1078258964159254534|BN9 - Nr Brighton...|hagglar  kevinmag...|          MCY1X|[{'label': 'NEGAT...|NEGATIVE|0.9921277761459351|     0|\n",
      "| 62|2022-01-12 16:25:...|1481301339682619395|              London|a measure of how ...|   phillipinman|[{'label': 'NEGAT...|NEGATIVE|0.9857501983642578|     0|\n",
      "|137|2022-01-08 19:47:...|1479902589432971265|      Nantes, France|the french test a...|      zersinan1|[{'label': 'NEGAT...|NEGATIVE|0.9878093004226685|     0|\n",
      "| 84|2022-01-12 04:46:...|1481125386364899328|     London, England|macron has pole p...|      Orgetorix|[{'label': 'NEGAT...|NEGATIVE|0.9957979321479797|     0|\n",
      "|277|2020-04-25 18:14:...|1254111545455513602|Haute Savoie, France|vickypjward i hop...|   French_Chris|[{'label': 'NEGAT...|NEGATIVE|0.9995843768119812|     0|\n",
      "|129|2022-01-09 09:10:...|1480104806803025923|       Paris, France|benoitdillet hell...|       imjoyork|[{'label': 'POSIT...|POSITIVE|0.9928141236305237|     1|\n",
      "|159|2021-11-05 07:19:...|1456521416690503686|              Vienna|who will be the n...|  frenchfluency|[{'label': 'NEGAT...|NEGATIVE|0.9920423626899719|     0|\n",
      "| 27|2022-01-14 13:52:...|1481987657710325761|  Aberdeen, Scotland|random fact his c...|        JKDBoag|[{'label': 'NEGAT...|NEGATIVE|0.9949172735214233|     0|\n",
      "|100|2022-01-11 06:40:...|1480791641061568513|           Heveadorp|french left strug...|       ewaldeng|[{'label': 'NEGAT...|NEGATIVE|0.9758715033531189|     0|\n",
      "|205|2021-05-10 09:04:...|1391680503116357633| Inverness, Scotland|sending out gunbo...|     Gordon1000|[{'label': 'NEGAT...|NEGATIVE|0.9943888783454895|     0|\n",
      "|182|2021-08-27 10:03:...|1431195758158614530|               Wales|euroguido why don...|  o_glyndwr1404|[{'label': 'NEGAT...|NEGATIVE| 0.996880054473877|     0|\n",
      "|315|2019-09-09 17:14:...|1171109616773677057|  Hillingdon, London|argyleloz don’t a...|JohnMas73850126|[{'label': 'POSIT...|POSITIVE| 0.989651620388031|     1|\n",
      "| 36|2022-01-13 15:40:...|1481652401509597185|             England| waltroon reactio...|       rickeyst|[{'label': 'POSIT...|POSITIVE|0.9984777569770813|     1|\n",
      "|313|2019-09-23 21:23:...|1176245776890159104|     London, England|anthonyrosewine s...| gregsherwoodmw|[{'label': 'NEGAT...|NEGATIVE|0.8109990954399109|     0|\n",
      "| 91|2022-01-11 16:43:...|1480943575445692418|    Brüssel, Belgien| days to go until...| pollofpolls_EU|[{'label': 'POSIT...|POSITIVE|0.9798029065132141|     1|\n",
      "|269|2020-06-16 21:20:...|1273002637907156992|                null|emmanuelmacron as...|ValentinoPerru1|[{'label': 'POSIT...|POSITIVE| 0.993841290473938|     1|\n",
      "| 70|2022-01-12 09:41:...|1481199752184307716|Dublin City, Ireland|french presidenti...|        sposhea|[{'label': 'POSIT...|POSITIVE|0.5482978224754333|     1|\n",
      "|325|2019-07-09 15:55:...|1148621675820453889|                null|theatlantic nadee...|     JehangirJm|[{'label': 'NEGAT...|NEGATIVE|0.9934908151626587|     0|\n",
      "+---+--------------------+-------------------+--------------------+--------------------+---------------+--------------------+--------+------------------+------+\n",
      "only showing top 20 rows\n",
      "\n"
     ]
    },
    {
     "name": "stderr",
     "output_type": "stream",
     "text": [
      "22/01/17 13:30:00 WARN CSVHeaderChecker: CSV header does not conform to the schema.\n",
      " Header: , Datetime, Tweet Id, location, Text, Username, sentiment, label, score, target\n",
      " Schema: _c0, Datetime, Tweet Id, location, Text, Username, sentiment, label, score, target\n",
      "Expected: _c0 but found: \n",
      "CSV file: file:///home/NullByte/Downloads/train.csv\n"
     ]
    }
   ],
   "source": [
    "sdf_train.show()"
   ]
  },
  {
   "cell_type": "code",
   "execution_count": 54,
   "id": "d5a34175",
   "metadata": {},
   "outputs": [
    {
     "name": "stdout",
     "output_type": "stream",
     "text": [
      "+--------------------+--------------------+\n",
      "|                Text|            location|\n",
      "+--------------------+--------------------+\n",
      "| more about the f...|                null|\n",
      "|if like me you’re...|              London|\n",
      "|hagglar  kevinmag...|BN9 - Nr Brighton...|\n",
      "|a measure of how ...|              London|\n",
      "|the french test a...|      Nantes, France|\n",
      "|macron has pole p...|     London, England|\n",
      "|vickypjward i hop...|Haute Savoie, France|\n",
      "|benoitdillet hell...|       Paris, France|\n",
      "|who will be the n...|              Vienna|\n",
      "|random fact his c...|  Aberdeen, Scotland|\n",
      "|french left strug...|           Heveadorp|\n",
      "|sending out gunbo...| Inverness, Scotland|\n",
      "|euroguido why don...|               Wales|\n",
      "|argyleloz don’t a...|  Hillingdon, London|\n",
      "| waltroon reactio...|             England|\n",
      "|anthonyrosewine s...|     London, England|\n",
      "| days to go until...|    Brüssel, Belgien|\n",
      "|emmanuelmacron as...|                null|\n",
      "|french presidenti...|Dublin City, Ireland|\n",
      "|theatlantic nadee...|                null|\n",
      "+--------------------+--------------------+\n",
      "only showing top 20 rows\n",
      "\n",
      "+---+--------+--------+--------+----+--------+---------+-----+-----+------+\n",
      "| id|Datetime|Tweet Id|location|Text|Username|sentiment|label|score|target|\n",
      "+---+--------+--------+--------+----+--------+---------+-----+-----+------+\n",
      "+---+--------+--------+--------+----+--------+---------+-----+-----+------+\n",
      "\n"
     ]
    },
    {
     "name": "stderr",
     "output_type": "stream",
     "text": [
      "22/01/17 21:17:02 WARN CSVHeaderChecker: CSV header does not conform to the schema.\n",
      " Header: , Datetime, Tweet Id, location, Text, Username, sentiment, label, score, target\n",
      " Schema: _c0, Datetime, Tweet Id, location, Text, Username, sentiment, label, score, target\n",
      "Expected: _c0 but found: \n",
      "CSV file: file:///home/NullByte/Downloads/train.csv\n"
     ]
    }
   ],
   "source": [
    "sdf_train.select('Text','location').show()\n",
    "sdf_train.filter( 'sentiment > 0.5').show()"
   ]
  },
  {
   "cell_type": "markdown",
   "id": "1849cd0c",
   "metadata": {},
   "source": [
    "# RegexTokenizer : \n",
    "A regex based tokenizer that extracts tokens either by using the provided regex pattern (in Java dialect) to split the text (default) or repeatedly matching the regex (if gaps is false). Optional parameters also allow filtering tokens using a minimal length. It returns an array of strings that can be empty.\n"
   ]
  },
  {
   "cell_type": "code",
   "execution_count": 37,
   "id": "362a3e2d",
   "metadata": {},
   "outputs": [
    {
     "name": "stdout",
     "output_type": "stream",
     "text": [
      "+---+--------------------+------+--------------------+--------------------+\n",
      "| id|                Text|target|            only_str|               words|\n",
      "+---+--------------------+------+--------------------+--------------------+\n",
      "|171| more about the f...|     1| more about the f...|[more, about, the...|\n",
      "| 77|if like me you’re...|     1|if like me you’re...|[if, like, me, yo...|\n",
      "|379|hagglar  kevinmag...|     0|hagglar  kevinmag...|[hagglar, kevinma...|\n",
      "| 62|a measure of how ...|     0|a measure of how ...|[a, measure, of, ...|\n",
      "|137|the french test a...|     0|the french test a...|[the, french, tes...|\n",
      "+---+--------------------+------+--------------------+--------------------+\n",
      "only showing top 5 rows\n",
      "\n"
     ]
    },
    {
     "name": "stderr",
     "output_type": "stream",
     "text": [
      "22/01/17 13:59:27 WARN CSVHeaderChecker: CSV header does not conform to the schema.\n",
      " Header: , Text, target\n",
      " Schema: _c0, Text, target\n",
      "Expected: _c0 but found: \n",
      "CSV file: file:///home/NullByte/Downloads/train.csv\n"
     ]
    }
   ],
   "source": [
    "traitement_df = sdf_train.select(\"id\",\"Text\",\"target\")\n",
    "traitement_df = traitement_df.dropna()\n",
    "traitement_df = traitement_df.withColumn(\"only_str\",regexp_replace(col('Text'), '\\d+', ''))\n",
    "# Separation des tweets en des mots avec regexTokenizer\n",
    "regex_tokenizer = RegexTokenizer(inputCol=\"only_str\", outputCol=\"words\", pattern=\"\\\\W\")\n",
    "raw_words = regex_tokenizer.transform(traitement_df)\n",
    "raw_words.show(5)"
   ]
  },
  {
   "cell_type": "code",
   "execution_count": 38,
   "id": "1b595d2d",
   "metadata": {},
   "outputs": [
    {
     "name": "stdout",
     "output_type": "stream",
     "text": [
      "+---+--------------------------------------------------------------------------------------------------------------------------------------------------------------------------------------------------------------------------------------------------------------------------------------------------------------------------------+------+-------------------------------------------------------------------------------------------------------------------------------------------------------------------------------------------------------------------+\n",
      "|id |words                                                                                                                                                                                                                                                                                                                           |target|filtered                                                                                                                                                                                                           |\n",
      "+---+--------------------------------------------------------------------------------------------------------------------------------------------------------------------------------------------------------------------------------------------------------------------------------------------------------------------------------+------+-------------------------------------------------------------------------------------------------------------------------------------------------------------------------------------------------------------------+\n",
      "|171|[more, about, the, french, election]                                                                                                                                                                                                                                                                                            |1     |[french, election]                                                                                                                                                                                                 |\n",
      "|77 |[if, like, me, you, re, wanting, to, get, into, the, detail, of, the, french, election, in, the, spring, this, is, a, very, good, place, to, start, httpst, co]                                                                                                                                                                 |1     |[like, re, wanting, get, detail, french, election, spring, good, place, start, httpst, co]                                                                                                                         |\n",
      "|379|[hagglar, kevinmaguire, that, s, not, her, job, that, s, the, governments, job, her, job, is, to, be, head, of, state, heads, of, states, whether, monarch, or, president, cost, money, ask, the, french, germans, or, italians, what, they, pay, for, theirs, don, t, forget, the, presidential, election, costs, every, years]|0     |[hagglar, kevinmaguire, job, governments, job, job, head, state, heads, states, whether, monarch, president, cost, money, ask, french, germans, italians, pay, forget, presidential, election, costs, every, years]|\n",
      "|62 |[a, measure, of, how, bad, the, french, presidential, election, is, likely, to, be, in, excellent, funnysad, article, by, also, by, williamnhutton, in, the, observeruk, at, the, weekend, on, this, point, httpst, co]                                                                                                         |0     |[measure, bad, french, presidential, election, likely, excellent, funnysad, article, also, williamnhutton, observeruk, weekend, point, httpst, co]                                                                 |\n",
      "|137|[the, french, test, a, column, on, the, french, presidential, election, via, lemondefr, httpst, co]                                                                                                                                                                                                                             |0     |[french, test, column, french, presidential, election, via, lemondefr, httpst, co]                                                                                                                                 |\n",
      "+---+--------------------------------------------------------------------------------------------------------------------------------------------------------------------------------------------------------------------------------------------------------------------------------------------------------------------------------+------+-------------------------------------------------------------------------------------------------------------------------------------------------------------------------------------------------------------------+\n",
      "only showing top 5 rows\n",
      "\n"
     ]
    },
    {
     "name": "stderr",
     "output_type": "stream",
     "text": [
      "22/01/17 13:59:40 WARN CSVHeaderChecker: CSV header does not conform to the schema.\n",
      " Header: , Text, target\n",
      " Schema: _c0, Text, target\n",
      "Expected: _c0 but found: \n",
      "CSV file: file:///home/NullByte/Downloads/train.csv\n"
     ]
    }
   ],
   "source": [
    "# Suppression des stop words\n",
    "remover = StopWordsRemover(inputCol=\"words\", outputCol=\"filtered\")\n",
    "words_df = remover.transform(raw_words)\n",
    "words_df.select(\"id\",\"words\",\"target\",\"filtered\").show(5, truncate=False)"
   ]
  },
  {
   "cell_type": "code",
   "execution_count": 39,
   "id": "f776c678",
   "metadata": {},
   "outputs": [
    {
     "name": "stderr",
     "output_type": "stream",
     "text": [
      "22/01/17 14:00:02 WARN CSVHeaderChecker: CSV header does not conform to the schema.\n",
      " Header: , Text, target\n",
      " Schema: _c0, Text, target\n",
      "Expected: _c0 but found: \n",
      "CSV file: file:///home/NullByte/Downloads/train.csv\n"
     ]
    },
    {
     "name": "stdout",
     "output_type": "stream",
     "text": [
      "+---+--------------------+------+--------------------+--------------------+--------------------+--------------------+-----+\n",
      "| id|                Text|target|            only_str|               words|            filtered|            features|label|\n",
      "+---+--------------------+------+--------------------+--------------------+--------------------+--------------------+-----+\n",
      "|171| more about the f...|     1| more about the f...|[more, about, the...|  [french, election]|(2298,[0,1],[1.0,...|    1|\n",
      "| 77|if like me you’re...|     1|if like me you’re...|[if, like, me, yo...|[like, re, wantin...|(2298,[0,1,2,3,15...|    1|\n",
      "|379|hagglar  kevinmag...|     0|hagglar  kevinmag...|[hagglar, kevinma...|[hagglar, kevinma...|(2298,[0,1,4,12,1...|    0|\n",
      "| 62|a measure of how ...|     0|a measure of how ...|[a, measure, of, ...|[measure, bad, fr...|(2298,[0,1,2,3,4,...|    0|\n",
      "|137|the french test a...|     0|the french test a...|[the, french, tes...|[french, test, co...|(2298,[0,1,2,3,4,...|    0|\n",
      "+---+--------------------+------+--------------------+--------------------+--------------------+--------------------+-----+\n",
      "only showing top 5 rows\n",
      "\n"
     ]
    },
    {
     "name": "stderr",
     "output_type": "stream",
     "text": [
      "22/01/17 14:00:03 WARN CSVHeaderChecker: CSV header does not conform to the schema.\n",
      " Header: , Text, target\n",
      " Schema: _c0, Text, target\n",
      "Expected: _c0 but found: \n",
      "CSV file: file:///home/NullByte/Downloads/train.csv\n"
     ]
    }
   ],
   "source": [
    "# Transformation des mots en vecteurs\n",
    "cv = CountVectorizer(inputCol=\"filtered\", outputCol=\"features\")\n",
    "\n",
    "# Ponderation des mots en utilisant le CountVectorizer\n",
    "model = cv.fit(words_df)\n",
    "countVectorizer_train = model.transform(words_df)\n",
    "countVectorizer_train = countVectorizer_train.withColumn(\"label\",col('target'))\n",
    "countVectorizer_train.show(5)"
   ]
  },
  {
   "cell_type": "code",
   "execution_count": 40,
   "id": "516ed7cb",
   "metadata": {},
   "outputs": [
    {
     "name": "stdout",
     "output_type": "stream",
     "text": [
      "+--------------------+--------------------+--------------------+--------------------+------+\n",
      "|                text|               words|            filtered|            features|target|\n",
      "+--------------------+--------------------+--------------------+--------------------+------+\n",
      "| more about the f...|[more, about, the...|  [french, election]|(2298,[0,1],[1.0,...|     1|\n",
      "|if like me you’re...|[if, like, me, yo...|[like, re, wantin...|(2298,[0,1,2,3,15...|     1|\n",
      "|hagglar  kevinmag...|[hagglar, kevinma...|[hagglar, kevinma...|(2298,[0,1,4,12,1...|     0|\n",
      "|a measure of how ...|[a, measure, of, ...|[measure, bad, fr...|(2298,[0,1,2,3,4,...|     0|\n",
      "|the french test a...|[the, french, tes...|[french, test, co...|(2298,[0,1,2,3,4,...|     0|\n",
      "|macron has pole p...|[macron, has, pol...|[macron, pole, po...|(2298,[0,1,2,3,5,...|     0|\n",
      "|vickypjward i hop...|[vickypjward, i, ...|[vickypjward, hop...|(2298,[0,44,54,64...|     0|\n",
      "|benoitdillet hell...|[benoitdillet, he...|[benoitdillet, he...|(2298,[0,1,4,6,16...|     1|\n",
      "|who will be the n...|[who, will, be, t...|[next, french, pr...|(2298,[0,1,2,3,8,...|     0|\n",
      "|random fact his c...|[random, fact, hi...|[random, fact, ca...|(2298,[0,1,2,3,46...|     0|\n",
      "|french left strug...|[french, left, st...|[french, left, st...|(2298,[0,1,2,3,11...|     0|\n",
      "|sending out gunbo...|[sending, out, gu...|[sending, gunboat...|(2298,[0,1,2,3,37...|     0|\n",
      "|euroguido why don...|[euroguido, why, ...|[euroguido, frenc...|(2298,[0,1,15,605...|     0|\n",
      "|argyleloz don’t a...|[argyleloz, don, ...|[argyleloz, agree...|(2298,[0,1,9,10,1...|     1|\n",
      "| waltroon reactio...|[waltroon, reacti...|[waltroon, reacti...|(2298,[0,1,4,5,54...|     1|\n",
      "|anthonyrosewine s...|[anthonyrosewine,...|[anthonyrosewine,...|(2298,[0,1,10,15,...|     0|\n",
      "| days to go until...|[days, to, go, un...|[days, go, first,...|(2298,[0,1,2,3,4,...|     1|\n",
      "|emmanuelmacron as...|[emmanuelmacron, ...|[emmanuelmacron, ...|(2298,[0,1,10,12,...|     1|\n",
      "|french presidenti...|[french, presiden...|[french, presiden...|(2298,[0,1,2,3,4,...|     1|\n",
      "|theatlantic nadee...|[theatlantic, nad...|[theatlantic, nad...|(2298,[0,1,5,6,12...|     0|\n",
      "+--------------------+--------------------+--------------------+--------------------+------+\n",
      "only showing top 20 rows\n",
      "\n"
     ]
    },
    {
     "name": "stderr",
     "output_type": "stream",
     "text": [
      "22/01/17 14:00:34 WARN CSVHeaderChecker: CSV header does not conform to the schema.\n",
      " Header: , Text, target\n",
      " Schema: _c0, Text, target\n",
      "Expected: _c0 but found: \n",
      "CSV file: file:///home/NullByte/Downloads/train.csv\n"
     ]
    }
   ],
   "source": [
    "countVectorizer_train.select('text','words','filtered','features','target').show()"
   ]
  },
  {
   "cell_type": "code",
   "execution_count": 41,
   "id": "9083759c",
   "metadata": {},
   "outputs": [],
   "source": [
    "# Separation des donnees de training et de validation selon le ratio 80/20\n",
    "(train, validate) = countVectorizer_train.randomSplit([0.8, 0.2],seed = 97435)\n",
    "trainData = countVectorizer_train"
   ]
  },
  {
   "cell_type": "code",
   "execution_count": 42,
   "id": "8ff2c824",
   "metadata": {},
   "outputs": [
    {
     "name": "stderr",
     "output_type": "stream",
     "text": [
      "22/01/17 14:02:08 WARN CSVHeaderChecker: CSV header does not conform to the schema.\n",
      " Header: , Text\n",
      " Schema: _c0, Text\n",
      "Expected: _c0 but found: \n",
      "CSV file: file:///home/NullByte/Downloads/test.csv\n"
     ]
    },
    {
     "name": "stdout",
     "output_type": "stream",
     "text": [
      "+---+--------------------+--------------------+--------------------+--------------------+--------------------+\n",
      "| id|                text|            only_str|               words|            filtered|            features|\n",
      "+---+--------------------+--------------------+--------------------+--------------------+--------------------+\n",
      "|  3|nonwokenews garet...|nonwokenews garet...|[nonwokenews, gar...|[nonwokenews, gar...|(1261,[0,1,5,88,1...|\n",
      "|  4|lorraineteuten th...|lorraineteuten th...|[lorraineteuten, ...|[lorraineteuten, ...|(1261,[0,1,10,31,...|\n",
      "|  7|           httpst.co|           httpst.co|        [httpst, co]|        [httpst, co]|(1261,[2,3],[1.0,...|\n",
      "|  8|african miner who...|african miner who...|[african, miner, ...|[african, miner, ...|(1261,[0,1,2,3,47...|\n",
      "| 14| oraelalaoui so y...| oraelalaoui so y...|[oraelalaoui, so,...|[oraelalaoui, rea...|(1261,[0,1,24,76,...|\n",
      "+---+--------------------+--------------------+--------------------+--------------------+--------------------+\n",
      "only showing top 5 rows\n",
      "\n"
     ]
    },
    {
     "name": "stderr",
     "output_type": "stream",
     "text": [
      "22/01/17 14:02:08 WARN CSVHeaderChecker: CSV header does not conform to the schema.\n",
      " Header: , Text\n",
      " Schema: _c0, Text\n",
      "Expected: _c0 but found: \n",
      "CSV file: file:///home/NullByte/Downloads/test.csv\n"
     ]
    }
   ],
   "source": [
    "# Nettoyage et preparation des donnees de test\n",
    "testData = sdf_test.select(\"id\",\"text\").dropna()\n",
    "testData = testData.withColumn(\"only_str\",regexp_replace(col('text'), '\\d+', ''))\n",
    "regex_tokenizer = RegexTokenizer(inputCol=\"only_str\", outputCol=\"words\", pattern=\"\\\\W\")  \n",
    "testData = regex_tokenizer.transform(testData)\n",
    "# Suppression des stop words\n",
    "remover = StopWordsRemover(inputCol=\"words\", outputCol=\"filtered\") \n",
    "testData = remover.transform(testData)\n",
    "cv = CountVectorizer(inputCol=\"filtered\", outputCol=\"features\")\n",
    "model = cv.fit(testData)\n",
    "countVectorizer_test = model.transform(testData)\n",
    "testData = countVectorizer_test\n",
    "testData.show(5)"
   ]
  },
  {
   "cell_type": "markdown",
   "id": "6e9d217c",
   "metadata": {},
   "source": [
    "#### Application du NaiveBayes"
   ]
  },
  {
   "cell_type": "code",
   "execution_count": 43,
   "id": "bf793e99",
   "metadata": {},
   "outputs": [
    {
     "name": "stderr",
     "output_type": "stream",
     "text": [
      "22/01/17 14:02:23 WARN CSVHeaderChecker: CSV header does not conform to the schema.\n",
      " Header: , Text, target\n",
      " Schema: _c0, Text, target\n",
      "Expected: _c0 but found: \n",
      "CSV file: file:///home/NullByte/Downloads/train.csv\n",
      "                                                                                \r"
     ]
    }
   ],
   "source": [
    "nb = NaiveBayes(modelType=\"multinomial\",labelCol=\"label\", featuresCol=\"features\")\n",
    "nbModel = nb.fit(train)\n",
    "nb_predictions = nbModel.transform(validate)"
   ]
  },
  {
   "cell_type": "code",
   "execution_count": 44,
   "id": "64dfcae0",
   "metadata": {},
   "outputs": [
    {
     "name": "stdout",
     "output_type": "stream",
     "text": [
      "Precision du NaiveBayes est = 0.646154\n"
     ]
    },
    {
     "name": "stderr",
     "output_type": "stream",
     "text": [
      "22/01/17 14:03:02 WARN CSVHeaderChecker: CSV header does not conform to the schema.\n",
      " Header: , Text, target\n",
      " Schema: _c0, Text, target\n",
      "Expected: _c0 but found: \n",
      "CSV file: file:///home/NullByte/Downloads/train.csv\n"
     ]
    }
   ],
   "source": [
    "# précision du naive bayes --> accuracy score\n",
    "evaluator = MulticlassClassificationEvaluator(labelCol=\"label\", predictionCol=\"prediction\", metricName=\"accuracy\")\n",
    "nb_accuracy = evaluator.evaluate(nb_predictions)\n",
    "print( \"La precision du modele Naive Bayes est de :\")\n",
    "print(nb_accuracy)"
   ]
  }
 ],
 "metadata": {
  "kernelspec": {
   "display_name": "Python 3",
   "language": "python",
   "name": "python3"
  },
  "language_info": {
   "codemirror_mode": {
    "name": "ipython",
    "version": 3
   },
   "file_extension": ".py",
   "mimetype": "text/x-python",
   "name": "python",
   "nbconvert_exporter": "python",
   "pygments_lexer": "ipython3",
   "version": "3.10.1"
  }
 },
 "nbformat": 4,
 "nbformat_minor": 5
}
